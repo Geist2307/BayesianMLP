{
 "cells": [
  {
   "cell_type": "markdown",
   "id": "27e09f35",
   "metadata": {},
   "source": [
    "# Setup"
   ]
  },
  {
   "cell_type": "code",
   "execution_count": 1,
   "id": "085f3648",
   "metadata": {},
   "outputs": [],
   "source": [
    "using BenchmarkTools\n",
    "using Flux\n",
    "using Plots"
   ]
  },
  {
   "cell_type": "code",
   "execution_count": 2,
   "id": "2243eaac",
   "metadata": {},
   "outputs": [],
   "source": [
    "repo_root = normpath(@__DIR__, \"..\") # just repo path\n",
    "include(joinpath(repo_root, \"VariationalMLP\", \"src\", \"VariationalMLP.jl\"))\n",
    "\n",
    "using .VariationalMLP"
   ]
  },
  {
   "cell_type": "markdown",
   "id": "8cecefc4",
   "metadata": {},
   "source": [
    "# Quick Demo"
   ]
  },
  {
   "cell_type": "markdown",
   "id": "ed6ca436",
   "metadata": {},
   "source": [
    "Based on : https://juliaci.github.io/BenchmarkTools.jl/stable/"
   ]
  },
  {
   "cell_type": "code",
   "execution_count": 3,
   "id": "51cf12d1",
   "metadata": {},
   "outputs": [
    {
     "data": {
      "text/plain": [
       "10-element Vector{Float64}:\n",
       " 0.07549001527315768\n",
       " 0.12188035963654287\n",
       " 0.7008360714296678\n",
       " 0.4655713087716429\n",
       " 0.4268167561015853\n",
       " 0.7500596980461736\n",
       " 0.5373464383141158\n",
       " 0.42586681069202026\n",
       " 0.7685771176491065\n",
       " 0.11001477371649049"
      ]
     },
     "metadata": {},
     "output_type": "display_data"
    }
   ],
   "source": [
    "data = rand(10)"
   ]
  },
  {
   "cell_type": "code",
   "execution_count": 4,
   "id": "7ea3d004",
   "metadata": {},
   "outputs": [
    {
     "data": {
      "text/plain": [
       "10-element Vector{Float64}:\n",
       " 0.07549001527315768\n",
       " 0.11001477371649049\n",
       " 0.12188035963654287\n",
       " 0.42586681069202026\n",
       " 0.4268167561015853\n",
       " 0.4655713087716429\n",
       " 0.5373464383141158\n",
       " 0.7008360714296678\n",
       " 0.7500596980461736\n",
       " 0.7685771176491065"
      ]
     },
     "metadata": {},
     "output_type": "display_data"
    }
   ],
   "source": [
    "sort(data)"
   ]
  },
  {
   "cell_type": "markdown",
   "id": "1b2de469",
   "metadata": {},
   "source": [
    "Let's see how quickly this works for this sort algorithm"
   ]
  },
  {
   "cell_type": "code",
   "execution_count": 6,
   "id": "2f8ff37f",
   "metadata": {},
   "outputs": [
    {
     "data": {
      "text/plain": [
       "BenchmarkTools.Trial: 10000 samples with 993 evaluations per sample.\n",
       " Range \u001b[90m(\u001b[39m\u001b[36m\u001b[1mmin\u001b[22m\u001b[39m … \u001b[35mmax\u001b[39m\u001b[90m):  \u001b[39m\u001b[36m\u001b[1m28.490 ns\u001b[22m\u001b[39m … \u001b[35m 3.313 μs\u001b[39m  \u001b[90m┊\u001b[39m GC \u001b[90m(\u001b[39mmin … max\u001b[90m): \u001b[39m0.00% … 98.40%\n",
       " Time  \u001b[90m(\u001b[39m\u001b[34m\u001b[1mmedian\u001b[22m\u001b[39m\u001b[90m):     \u001b[39m\u001b[34m\u001b[1m40.660 ns              \u001b[22m\u001b[39m\u001b[90m┊\u001b[39m GC \u001b[90m(\u001b[39mmedian\u001b[90m):    \u001b[39m0.00%\n",
       " Time  \u001b[90m(\u001b[39m\u001b[32m\u001b[1mmean\u001b[22m\u001b[39m ± \u001b[32mσ\u001b[39m\u001b[90m):   \u001b[39m\u001b[32m\u001b[1m45.364 ns\u001b[22m\u001b[39m ± \u001b[32m55.291 ns\u001b[39m  \u001b[90m┊\u001b[39m GC \u001b[90m(\u001b[39mmean ± σ\u001b[90m):  \u001b[39m9.26% ±  9.51%\n",
       "\n",
       "  \u001b[39m \u001b[39m▅\u001b[39m█\u001b[34m▇\u001b[39m\u001b[32m▄\u001b[39m\u001b[39m▂\u001b[39m \u001b[39m \u001b[39m \u001b[39m \u001b[39m \u001b[39m \u001b[39m \u001b[39m \u001b[39m \u001b[39m \u001b[39m \u001b[39m \u001b[39m \u001b[39m \u001b[39m \u001b[39m \u001b[39m \u001b[39m \u001b[39m \u001b[39m \u001b[39m \u001b[39m \u001b[39m \u001b[39m \u001b[39m \u001b[39m \u001b[39m \u001b[39m \u001b[39m \u001b[39m \u001b[39m \u001b[39m \u001b[39m \u001b[39m \u001b[39m \u001b[39m \u001b[39m \u001b[39m \u001b[39m \u001b[39m \u001b[39m \u001b[39m \u001b[39m \u001b[39m \u001b[39m \u001b[39m \u001b[39m \u001b[39m \u001b[39m \u001b[39m \u001b[39m \u001b[39m \u001b[39m \u001b[39m \u001b[39m▁\n",
       "  \u001b[39m█\u001b[39m█\u001b[39m█\u001b[34m█\u001b[39m\u001b[32m█\u001b[39m\u001b[39m█\u001b[39m█\u001b[39m▆\u001b[39m▃\u001b[39m▃\u001b[39m▃\u001b[39m▄\u001b[39m▁\u001b[39m▃\u001b[39m▁\u001b[39m▁\u001b[39m▃\u001b[39m▁\u001b[39m▁\u001b[39m▁\u001b[39m▁\u001b[39m▁\u001b[39m▁\u001b[39m▁\u001b[39m▁\u001b[39m▁\u001b[39m▁\u001b[39m▁\u001b[39m▁\u001b[39m▁\u001b[39m▁\u001b[39m▁\u001b[39m▁\u001b[39m▁\u001b[39m▁\u001b[39m▁\u001b[39m▁\u001b[39m▁\u001b[39m▁\u001b[39m▁\u001b[39m▁\u001b[39m▁\u001b[39m▁\u001b[39m▁\u001b[39m▁\u001b[39m▁\u001b[39m▁\u001b[39m▁\u001b[39m▁\u001b[39m▁\u001b[39m▁\u001b[39m▁\u001b[39m▁\u001b[39m▁\u001b[39m▁\u001b[39m▁\u001b[39m▃\u001b[39m▆\u001b[39m▆\u001b[39m \u001b[39m█\n",
       "  28.5 ns\u001b[90m      \u001b[39m\u001b[90mHistogram: \u001b[39m\u001b[90m\u001b[1mlog(\u001b[22m\u001b[39m\u001b[90mfrequency\u001b[39m\u001b[90m\u001b[1m)\u001b[22m\u001b[39m\u001b[90m by time\u001b[39m       291 ns \u001b[0m\u001b[1m<\u001b[22m\n",
       "\n",
       " Memory estimate\u001b[90m: \u001b[39m\u001b[33m144 bytes\u001b[39m, allocs estimate\u001b[90m: \u001b[39m\u001b[33m2\u001b[39m."
      ]
     },
     "execution_count": 6,
     "metadata": {},
     "output_type": "execute_result"
    }
   ],
   "source": [
    "@benchmark sort(data) setup=(data=rand(10))"
   ]
  },
  {
   "cell_type": "code",
   "execution_count": 7,
   "id": "5fdf7d33",
   "metadata": {},
   "outputs": [
    {
     "name": "stdout",
     "output_type": "stream",
     "text": [
      "  3.625 ns (0 allocations: 0 bytes)\n"
     ]
    },
    {
     "data": {
      "text/plain": [
       "0.09945107896698284"
      ]
     },
     "execution_count": 7,
     "metadata": {},
     "output_type": "execute_result"
    }
   ],
   "source": [
    "@btime sin(x) setup=(x=rand())"
   ]
  },
  {
   "cell_type": "code",
   "execution_count": 8,
   "id": "c18ba34e",
   "metadata": {},
   "outputs": [
    {
     "name": "stdout",
     "output_type": "stream",
     "text": [
      "[0.16960491226192365 0.21345033388990253 0.8214833343078708; 0.44049007481230285 0.07189574966377632 0.8905580783032689; 0.7500428033315432 0.2601684624573597 0.39359645907360974]\n",
      "[-1.682132105978903 1.0727316803409799 1.0836317694275912; 4.090278049320793 -4.543570284887986 1.7434556524173581; 0.501807688240894 0.9591016627264686 -0.6767397938475697]\n"
     ]
    }
   ],
   "source": [
    "A = rand(3,3)\n",
    "A_inv = inv(A)\n",
    "println(A)\n",
    "println(A_inv)"
   ]
  },
  {
   "cell_type": "code",
   "execution_count": 9,
   "id": "447f4211",
   "metadata": {},
   "outputs": [
    {
     "data": {
      "text/plain": [
       "3×3 Matrix{Float64}:\n",
       "  1.0           0.0           0.0\n",
       " -5.55112e-17   1.0          -1.11022e-16\n",
       "  3.33067e-16  -5.55112e-17   1.0"
      ]
     },
     "execution_count": 9,
     "metadata": {},
     "output_type": "execute_result"
    }
   ],
   "source": [
    "A * A_inv"
   ]
  },
  {
   "cell_type": "code",
   "execution_count": 10,
   "id": "933fcd91",
   "metadata": {},
   "outputs": [
    {
     "name": "stdout",
     "output_type": "stream",
     "text": [
      "  308.845 ns (7 allocations: 1.88 KiB)\n"
     ]
    },
    {
     "data": {
      "text/plain": [
       "3×3 Matrix{Float64}:\n",
       " -1.68213    1.07273    1.08363\n",
       "  4.09028   -4.54357    1.74346\n",
       "  0.501808   0.959102  -0.67674"
      ]
     },
     "execution_count": 10,
     "metadata": {},
     "output_type": "execute_result"
    }
   ],
   "source": [
    "@btime inv($A)"
   ]
  },
  {
   "cell_type": "markdown",
   "id": "efd4ae3b",
   "metadata": {},
   "source": [
    "# Benchmark loops"
   ]
  },
  {
   "cell_type": "markdown",
   "id": "0e996c55",
   "metadata": {},
   "source": [
    "# Variational Dropout (Molchanov)"
   ]
  },
  {
   "cell_type": "code",
   "execution_count": 11,
   "id": "88522acd",
   "metadata": {},
   "outputs": [
    {
     "data": {
      "text/plain": [
       "300×32 Matrix{Float32}:\n",
       " 0.958314   0.933941    0.401141   …  0.152534    0.281412    0.894579\n",
       " 0.120783   0.00399035  0.489561      0.172023    0.875931    0.996966\n",
       " 0.105867   0.0485231   0.242761      0.00636274  0.120786    0.247303\n",
       " 0.939628   0.0534546   0.73097       0.690218    0.642835    0.892169\n",
       " 0.61906    0.358696    0.803592      0.176367    0.0289826   0.734983\n",
       " 0.125696   0.769063    0.0430561  …  0.355827    0.519506    0.609749\n",
       " 0.704685   0.734138    0.452008      0.220216    0.00714821  0.45026\n",
       " 0.430373   0.278624    0.33018       0.766232    0.952734    0.869474\n",
       " 0.349086   0.367057    0.45821       0.938272    0.386168    0.0920134\n",
       " 0.0979801  0.519031    0.395636      0.904562    0.560142    0.383232\n",
       " 0.230415   0.258155    0.60156    …  0.670963    0.0975702   0.303938\n",
       " 0.021451   0.110649    0.102099      0.275709    0.973505    0.347845\n",
       " 0.205095   0.44207     0.620219      0.584542    0.148073    0.734525\n",
       " ⋮                                 ⋱              ⋮           \n",
       " 0.167475   0.261184    0.696858      0.192256    0.910399    0.928548\n",
       " 0.701088   0.00848746  0.883867      0.907691    0.931112    0.469353\n",
       " 0.44673    0.31251     0.665602   …  0.727753    0.460892    0.891293\n",
       " 0.740247   0.0290775   0.925975      0.492776    0.11495     0.558247\n",
       " 0.395743   0.810702    0.418858      0.394723    0.487487    0.940267\n",
       " 0.633904   0.901711    0.596428      0.521113    0.00582147  0.153122\n",
       " 0.0635857  0.260843    0.127436      0.172348    0.264539    0.620862\n",
       " 0.77173    0.476519    0.221361   …  0.0250185   0.529137    0.546384\n",
       " 0.0740737  0.95917     0.702548      0.635774    0.543399    0.244336\n",
       " 0.413362   0.876333    0.0787191     0.667942    0.472414    0.182004\n",
       " 0.46839    0.505466    0.73864       0.768964    0.920484    0.670738\n",
       " 0.688992   0.272344    0.181228      0.7981      0.656012    0.659566"
      ]
     },
     "execution_count": 11,
     "metadata": {},
     "output_type": "execute_result"
    }
   ],
   "source": [
    "x = rand(Float32, 300, 32)  # input: 300 features, batch of 32"
   ]
  },
  {
   "cell_type": "code",
   "execution_count": 12,
   "id": "6d5e8bfc",
   "metadata": {},
   "outputs": [
    {
     "data": {
      "text/plain": [
       "Main.VariationalMLP.VariationalDense{typeof(relu)}(Float32[0.48671097 0.28783625 … 0.7951985 -0.7215633; 0.5177368 0.42106435 … -0.7710353 0.8546423; … ; -1.3780183 -0.6903357 … 2.2115 0.13292938; 0.47789004 -0.12540379 … -0.20387489 -0.13186419], Float32[0.74457884 -2.4324222 … 2.0892978 -1.2033985; 0.4253627 -0.7595672 … 0.018620761 -0.61241436; … ; -2.560398 -1.1910667 … -1.4692762 -0.17510343; -0.6946142 -1.7486149 … 0.61208826 0.61407274], Float32[0.0, 0.0, 0.0, 0.0, 0.0, 0.0, 0.0, 0.0, 0.0, 0.0  …  0.0, 0.0, 0.0, 0.0, 0.0, 0.0, 0.0, 0.0, 0.0, 0.0], NNlib.relu)"
      ]
     },
     "execution_count": 12,
     "metadata": {},
     "output_type": "execute_result"
    }
   ],
   "source": [
    "dense = Dense(300, 100, relu)\n",
    "var_layer_1 = make_variational(300, 100; activation=relu, parameterisation=:molchanov)\n",
    "var_layer_2 = make_variational(300, 100; activation=relu, parameterisation=:kingma)\n",
    "var_layer_3 = make_variational(300, 100; activation=relu, parameterisation=:graves)"
   ]
  },
  {
   "cell_type": "code",
   "execution_count": 13,
   "id": "f906f2b5",
   "metadata": {},
   "outputs": [
    {
     "data": {
      "text/plain": [
       "Dense(300 => 100, relu)  \u001b[90m# 30_100 parameters\u001b[39m"
      ]
     },
     "execution_count": 13,
     "metadata": {},
     "output_type": "execute_result"
    }
   ],
   "source": [
    "dense"
   ]
  },
  {
   "cell_type": "code",
   "execution_count": 14,
   "id": "02b73b06",
   "metadata": {},
   "outputs": [
    {
     "data": {
      "text/plain": [
       "VariationalDropoutMolchanov{typeof(relu)}(Float32[-0.43685755 0.08489554 … -1.6618814 -0.29524508; -1.5998878 1.0415661 … 2.0147724 -1.3684102; … ; 1.3930212 -0.6209397 … -0.74008626 0.54539466; -1.6403211 -0.107296005 … -2.3517299 -1.0712726], Float32[0.232926 0.32656965 … 1.6909105 0.22774501; 0.4568992 -0.4828619 … -0.6694798 -0.6123085; … ; -0.07900804 0.26763338 … 1.2399093 0.21933515; 0.6857367 1.1743313 … 0.3457506 -1.0528866], Float32[0.0, 0.0, 0.0, 0.0, 0.0, 0.0, 0.0, 0.0, 0.0, 0.0  …  0.0, 0.0, 0.0, 0.0, 0.0, 0.0, 0.0, 0.0, 0.0, 0.0], NNlib.relu)"
      ]
     },
     "execution_count": 14,
     "metadata": {},
     "output_type": "execute_result"
    }
   ],
   "source": [
    "var_layer_1"
   ]
  },
  {
   "cell_type": "markdown",
   "id": "793cae26",
   "metadata": {},
   "source": [
    "Let's try to apply them to the input"
   ]
  },
  {
   "cell_type": "code",
   "execution_count": 15,
   "id": "3642c561",
   "metadata": {},
   "outputs": [
    {
     "data": {
      "text/plain": [
       "100×32 Matrix{Float32}:\n",
       " 0.445163   0.0         0.115413    …  0.0        0.107702   0.033223\n",
       " 0.0        0.0         0.0            0.0        0.0        0.0\n",
       " 0.0        0.0         0.0            0.0        0.0        0.0\n",
       " 0.0        0.109663    0.0            0.0        0.235564   0.0\n",
       " 0.0384172  0.0         0.0            0.0        0.0        0.288226\n",
       " 0.0        0.0         0.0         …  0.0        0.0        0.0\n",
       " 0.500724   0.419961    0.236422       0.268847   0.202376   0.211306\n",
       " 0.0        0.0         0.0            0.0        0.0        0.0\n",
       " 0.0        0.0         0.0            0.0        0.0        0.183608\n",
       " 0.0        0.0         0.0            0.0        0.0        0.0\n",
       " 0.833865   0.984048    0.828721    …  1.13949    0.550333   0.85089\n",
       " 0.0        0.0         0.0            0.0        0.0        0.0\n",
       " 0.160715   0.600113    0.34477        0.681765   0.791276   0.0\n",
       " ⋮                                  ⋱             ⋮          \n",
       " 0.809335   0.453948    1.41536        0.402925   1.20315    0.692134\n",
       " 0.0        0.0         0.177306       0.484046   0.0151752  0.0\n",
       " 0.0        0.00588184  0.00967719  …  0.41088    0.0        0.0\n",
       " 0.699537   0.74874     1.16986        0.826299   0.440647   0.644719\n",
       " 0.0        0.0         0.0            0.0        0.0        0.0\n",
       " 0.0        0.0         0.0            0.0        0.0        0.0\n",
       " 1.43774    0.372422    1.10944        1.15005    1.1607     1.03957\n",
       " 0.0        0.0         0.0         …  0.0783516  0.0        0.0\n",
       " 0.0        0.0         0.0            0.0        0.0        0.0\n",
       " 0.492571   0.348626    0.0677674      0.658484   0.0        0.374795\n",
       " 0.0        0.0         0.0            0.0        0.0        0.0\n",
       " 0.439513   0.0         0.0            0.0        0.885803   0.0"
      ]
     },
     "execution_count": 15,
     "metadata": {},
     "output_type": "execute_result"
    }
   ],
   "source": [
    "dense(x)"
   ]
  },
  {
   "cell_type": "code",
   "execution_count": 16,
   "id": "a2e0b73f",
   "metadata": {},
   "outputs": [
    {
     "data": {
      "text/plain": [
       "100×32 Matrix{Float32}:\n",
       "  6.25843    4.82337   0.0      8.76104   …   0.0       2.26321   3.36543\n",
       "  0.0        0.0       0.0      0.0           0.0       0.0       0.0\n",
       "  0.0        0.0       0.0      0.0           0.0       0.0       0.0\n",
       "  0.0        0.0       0.0      0.0           0.0       0.0       0.0\n",
       " 10.5237    16.4919   11.7713  21.5509       21.164    15.1271   17.2656\n",
       " 21.878     25.9373   21.0121  19.9754    …  12.7315   15.2481   15.9507\n",
       "  0.144467  20.4795    0.0      0.254445      0.0       5.77656  13.1105\n",
       "  0.0        0.0       0.0      0.0           0.0       0.0       0.0\n",
       " 13.767     15.8598   10.033   21.1814       15.7677    0.0      14.8222\n",
       "  1.60674    0.0       0.0      0.0           0.0       0.0       0.0\n",
       " 26.0615    37.0587   39.5522  29.0457    …  42.0399   18.5582   22.1077\n",
       "  0.0        0.0       0.0      0.0           0.0       0.0       0.0\n",
       " 15.9796    23.9304   14.1293  21.5131       28.7888    1.21887  17.8526\n",
       "  ⋮                                       ⋱             ⋮        \n",
       "  1.69833    5.83567   0.0      0.0           8.24763  10.224     8.22863\n",
       " 32.7228    30.951    40.3371  44.0938       35.3505   48.7921   35.1495\n",
       "  0.0        0.0       0.0      0.0       …   0.0       0.0       0.0\n",
       "  0.0        0.0       0.0      0.0           0.0       0.0       0.0\n",
       "  0.0        0.0       0.0      0.0           0.0       0.0       0.0\n",
       " 14.7626    13.2285    0.0      3.00682       4.79505   2.62804   0.0\n",
       "  4.00216    0.0      20.3605   0.0           0.0       7.13245   0.0\n",
       "  8.17231    0.0      21.9152   2.05871   …  15.052     2.40187  19.5682\n",
       "  0.0        0.0       0.0      0.0           0.0       0.0       0.0\n",
       " 22.894     22.0587   20.2212  24.5272       29.9814   16.2275   32.3836\n",
       " 12.2496     1.9497    0.0      0.0           8.92387   0.0       0.0\n",
       "  0.0        0.0       0.0      0.0           4.67169   0.0       0.0"
      ]
     },
     "execution_count": 16,
     "metadata": {},
     "output_type": "execute_result"
    }
   ],
   "source": [
    "var_layer_1(x)"
   ]
  },
  {
   "cell_type": "code",
   "execution_count": 17,
   "id": "2da4025f",
   "metadata": {},
   "outputs": [
    {
     "data": {
      "text/plain": [
       "100×32 Matrix{Float32}:\n",
       " 10.6547   19.201     10.4253     …  18.6034    20.7754    16.7124\n",
       "  0.0       4.88031    0.0513558      5.98526    0.0        0.0\n",
       "  0.0       8.40891    0.0            0.0        0.0        0.0\n",
       "  0.0       0.0        0.0            0.0        0.0        0.0\n",
       " 27.7688   26.6627    35.969         35.7167     7.0453    33.4402\n",
       " 26.062    17.9019    10.2154     …  35.3665    28.5088    17.0703\n",
       "  0.0       0.0        0.0            0.0        0.0        0.0\n",
       "  3.17546   4.04305   11.3343         5.55978    5.70891    8.64492\n",
       " 16.4642   15.5575    12.482         21.083     11.1843    16.4729\n",
       "  0.0       0.0        0.0            0.0        6.52704    0.0\n",
       " 12.3954    0.305874  14.1105     …   1.52634    0.0        8.83331\n",
       "  0.0       2.57792    0.0            2.50675    0.0        0.0\n",
       "  9.8828    0.0        0.0           10.5361     5.29919    7.56782\n",
       "  ⋮                               ⋱              ⋮         \n",
       " 11.7035    0.0        3.08482       14.5257    18.3814    31.2107\n",
       "  0.0       0.0        0.0            0.0        0.0        0.0\n",
       "  0.0       0.0        0.0        …   0.0        4.82587    0.0\n",
       "  0.0       2.3518     0.0            0.885733   0.782156   0.0\n",
       "  4.46001  27.0711    17.3712        22.0286     7.3084    12.1642\n",
       "  0.0       0.0        0.0            0.0        0.0        0.0\n",
       " 16.6013   17.2909    33.7942        15.8505    29.4611    30.0677\n",
       "  0.0       1.66866    7.15623    …  16.95       3.59412    0.0\n",
       " 31.1882   15.5697    10.7364        12.2949     8.52516    9.88709\n",
       "  0.0       0.0        0.0            0.0        0.0        0.0\n",
       "  2.18897  17.6348    20.8528        12.2004    25.9026    13.1055\n",
       "  5.86116   1.27387    2.98698       11.434      0.0        0.0"
      ]
     },
     "execution_count": 17,
     "metadata": {},
     "output_type": "execute_result"
    }
   ],
   "source": [
    "var_layer_2(x)"
   ]
  },
  {
   "cell_type": "code",
   "execution_count": 18,
   "id": "c4acaa47",
   "metadata": {},
   "outputs": [
    {
     "data": {
      "text/plain": [
       "100×32 Matrix{Float32}:\n",
       "  0.0       0.0       5.8415    0.0      …   0.0       0.0       7.71049\n",
       "  0.0       0.0       0.0       0.0          0.0       0.0       0.0\n",
       "  0.0       0.68419   0.0       0.0          0.0       0.0       0.0\n",
       "  0.0       0.0       0.0       0.0          0.0       0.0       0.0\n",
       " 10.7764   29.7994   18.7487   36.7623      16.4782   17.0477   10.4503\n",
       " 12.8516   16.1304    0.0      19.7109   …  12.6342    0.0      11.522\n",
       " 10.342     0.0      15.7623   12.2853      14.4564    0.0       5.00547\n",
       " 17.5177    0.0       1.26094  14.8939       1.61457  14.0908   28.0417\n",
       " 12.6938    8.06788  14.7526   15.2005       8.17956  12.1103   21.9166\n",
       "  3.73391   0.0       1.42143   9.4565      17.0895    2.64702   5.93608\n",
       "  0.0       0.0       0.0       0.0      …   0.0       0.0       0.0\n",
       "  0.0       7.61388   7.88679   0.0          9.98885  14.3312    0.0\n",
       " 24.1744   12.4572    5.61219  18.2081       3.08661   0.0       7.90194\n",
       "  ⋮                                      ⋱             ⋮        \n",
       "  0.0       0.0       0.0       6.60323      0.0       0.0       0.0\n",
       "  8.53888   0.0       5.45664   0.0          8.92153  10.8937    0.0\n",
       "  0.0       4.39158   6.47      0.0      …   0.0      14.8703   32.2391\n",
       "  0.0       0.0       9.309     0.0          0.0       0.0       0.0\n",
       "  9.53586  14.5287    7.26976  14.111        0.0       3.47312   0.0\n",
       "  0.0       0.0       3.51427   0.0         10.6298    0.0       4.9366\n",
       "  0.0       0.0       0.0       0.0          0.0       0.0       0.0\n",
       " 22.4759   28.0214   24.4258   11.3493   …  16.7292   14.2899   27.2857\n",
       " 14.0574    0.0       3.95741   9.64956      5.7649    0.0       5.01967\n",
       " 34.1634   42.7182   13.5829   15.8486      54.9957   20.0112   36.325\n",
       " 24.1624   21.6045   23.017    26.6382      16.0541   29.1362   33.2571\n",
       "  7.03188  19.9169   23.9611    1.48308     31.4109    6.44357  19.5647"
      ]
     },
     "execution_count": 18,
     "metadata": {},
     "output_type": "execute_result"
    }
   ],
   "source": [
    "var_layer_3(x)"
   ]
  },
  {
   "cell_type": "markdown",
   "id": "8ca996b6",
   "metadata": {},
   "source": [
    "## One layer"
   ]
  },
  {
   "cell_type": "code",
   "execution_count": 19,
   "id": "4dc81f9d",
   "metadata": {},
   "outputs": [
    {
     "name": "stdout",
     "output_type": "stream",
     "text": [
      "Benchmark: Dense layer forward\n",
      "  33.166 μs (6 allocations: 25.16 KiB)\n",
      "Benchmark: Molchanov layer forward\n",
      "  296.584 μs (12 allocations: 259.81 KiB)\n",
      "Benchmark: Kigma layer forward\n",
      "  337.167 μs (12 allocations: 259.81 KiB)\n",
      "Benchmark: Graves layer forward\n",
      "  297.459 μs (12 allocations: 259.81 KiB)\n"
     ]
    },
    {
     "data": {
      "text/plain": [
       "100×32 Matrix{Float32}:\n",
       " 12.9601    4.55049  12.7292    0.0      …  11.4549     0.0       16.0513\n",
       " 10.1546   11.6482   11.2421   12.3546       0.0       15.2563     0.0\n",
       "  0.0      10.6981    0.0       0.0          0.0        0.545844   1.4399\n",
       "  0.0       0.0      10.3312    0.0          0.0       19.3328    18.0895\n",
       " 21.5884   32.9366   35.8767   33.2585      44.6518    15.397     14.2991\n",
       " 27.3598   30.9148   17.6174   25.68     …  24.0545     2.16785   29.2188\n",
       "  0.0       0.0       0.0       0.0          0.0        1.11744    0.0\n",
       "  0.0       2.94395   0.0       0.0          0.0        0.0        0.0\n",
       "  0.0       1.71854   4.12568   0.0          2.7017     7.73407    8.77951\n",
       "  0.0       0.0       0.0       0.0          0.0        0.0        0.0\n",
       "  0.0       0.0       0.0       3.03009  …   0.0        0.575575   3.9425\n",
       " 33.8649   35.0778   41.8807   20.2876      45.5214    30.8685    19.1409\n",
       "  0.0       0.0       0.0       5.79657      0.0        0.0        0.0\n",
       "  ⋮                                      ⋱              ⋮         \n",
       " 11.1455   16.7625    0.0       6.70557      4.93755   14.2712     0.443477\n",
       "  0.0       0.0       0.0       0.0          0.0       12.312      0.0\n",
       " 12.4479   26.0447   26.2531   12.6709   …  15.0166    26.0769    32.2066\n",
       " 14.8039   21.334    22.1929   11.0853       7.55473    0.947783   4.37319\n",
       " 18.6978   14.4181   13.2987   26.8603       0.748532  11.6416     7.47793\n",
       "  0.0       0.0       0.0       0.0          0.0        0.0        0.0\n",
       "  0.0       2.65664   0.0       0.0          0.0        1.43658    2.25876\n",
       " 37.3985   29.8131    1.40417  10.9717   …   7.41681   20.5505    16.6388\n",
       " 16.5923    0.0      24.0342   20.8617      20.2457    18.1778    17.8777\n",
       " 34.3659   37.11     38.9295   39.1401      52.8348    46.7631    45.1378\n",
       " 23.8245   19.0029   14.6529   11.8034       7.07272    7.55322   17.1091\n",
       "  2.90974  11.237    21.2995    1.26141     10.6336     8.65003   17.7557"
      ]
     },
     "execution_count": 19,
     "metadata": {},
     "output_type": "execute_result"
    }
   ],
   "source": [
    "# 1. Benchmark forward pass\n",
    "println(\"Benchmark: Dense layer forward\")\n",
    "@btime $dense($x)\n",
    "\n",
    "println(\"Benchmark: Molchanov layer forward\")\n",
    "@btime $var_layer_1($x)\n",
    "\n",
    "\n",
    "println(\"Benchmark: Kigma layer forward\")\n",
    "@btime $var_layer_2($x)\n",
    "\n",
    "\n",
    "println(\"Benchmark: Graves layer forward\")\n",
    "@btime $var_layer_3($x)"
   ]
  },
  {
   "cell_type": "code",
   "execution_count": 20,
   "id": "75039a1d",
   "metadata": {},
   "outputs": [
    {
     "data": {
      "text/plain": [
       "BenchmarkTools.Trial: 10000 samples with 1 evaluation per sample.\n",
       " Range \u001b[90m(\u001b[39m\u001b[36m\u001b[1mmin\u001b[22m\u001b[39m … \u001b[35mmax\u001b[39m\u001b[90m):  \u001b[39m\u001b[36m\u001b[1m33.458 μs\u001b[22m\u001b[39m … \u001b[35m 14.505 ms\u001b[39m  \u001b[90m┊\u001b[39m GC \u001b[90m(\u001b[39mmin … max\u001b[90m): \u001b[39m0.00% … 99.39%\n",
       " Time  \u001b[90m(\u001b[39m\u001b[34m\u001b[1mmedian\u001b[22m\u001b[39m\u001b[90m):     \u001b[39m\u001b[34m\u001b[1m35.250 μs               \u001b[22m\u001b[39m\u001b[90m┊\u001b[39m GC \u001b[90m(\u001b[39mmedian\u001b[90m):    \u001b[39m0.00%\n",
       " Time  \u001b[90m(\u001b[39m\u001b[32m\u001b[1mmean\u001b[22m\u001b[39m ± \u001b[32mσ\u001b[39m\u001b[90m):   \u001b[39m\u001b[32m\u001b[1m37.915 μs\u001b[22m\u001b[39m ± \u001b[32m152.853 μs\u001b[39m  \u001b[90m┊\u001b[39m GC \u001b[90m(\u001b[39mmean ± σ\u001b[90m):  \u001b[39m5.09% ±  1.40%\n",
       "\n",
       "  \u001b[39m \u001b[39m \u001b[39m▁\u001b[39m▃\u001b[39m█\u001b[39m▆\u001b[34m▅\u001b[39m\u001b[39m▄\u001b[39m▁\u001b[39m \u001b[39m \u001b[39m \u001b[39m \u001b[39m \u001b[39m \u001b[39m \u001b[32m \u001b[39m\u001b[39m \u001b[39m \u001b[39m \u001b[39m \u001b[39m \u001b[39m \u001b[39m \u001b[39m \u001b[39m \u001b[39m \u001b[39m \u001b[39m \u001b[39m \u001b[39m \u001b[39m \u001b[39m \u001b[39m \u001b[39m \u001b[39m \u001b[39m \u001b[39m \u001b[39m \u001b[39m \u001b[39m \u001b[39m \u001b[39m \u001b[39m \u001b[39m \u001b[39m \u001b[39m \u001b[39m \u001b[39m \u001b[39m \u001b[39m \u001b[39m \u001b[39m \u001b[39m \u001b[39m \u001b[39m \u001b[39m \u001b[39m \u001b[39m \u001b[39m \u001b[39m \u001b[39m \n",
       "  \u001b[39m▄\u001b[39m▆\u001b[39m█\u001b[39m█\u001b[39m█\u001b[39m█\u001b[34m█\u001b[39m\u001b[39m█\u001b[39m█\u001b[39m█\u001b[39m▅\u001b[39m▄\u001b[39m▃\u001b[39m▃\u001b[39m▃\u001b[39m▃\u001b[32m▃\u001b[39m\u001b[39m▃\u001b[39m▃\u001b[39m▃\u001b[39m▂\u001b[39m▂\u001b[39m▂\u001b[39m▂\u001b[39m▂\u001b[39m▂\u001b[39m▂\u001b[39m▂\u001b[39m▂\u001b[39m▂\u001b[39m▂\u001b[39m▂\u001b[39m▂\u001b[39m▂\u001b[39m▂\u001b[39m▂\u001b[39m▂\u001b[39m▂\u001b[39m▂\u001b[39m▂\u001b[39m▂\u001b[39m▂\u001b[39m▁\u001b[39m▂\u001b[39m▂\u001b[39m▂\u001b[39m▂\u001b[39m▂\u001b[39m▂\u001b[39m▁\u001b[39m▂\u001b[39m▂\u001b[39m▂\u001b[39m▂\u001b[39m▂\u001b[39m▂\u001b[39m▂\u001b[39m▂\u001b[39m▂\u001b[39m▂\u001b[39m \u001b[39m▃\n",
       "  33.5 μs\u001b[90m         Histogram: frequency by time\u001b[39m         50.7 μs \u001b[0m\u001b[1m<\u001b[22m\n",
       "\n",
       " Memory estimate\u001b[90m: \u001b[39m\u001b[33m25.16 KiB\u001b[39m, allocs estimate\u001b[90m: \u001b[39m\u001b[33m6\u001b[39m."
      ]
     },
     "execution_count": 20,
     "metadata": {},
     "output_type": "execute_result"
    }
   ],
   "source": [
    "bench_dense = @benchmark $dense($x)"
   ]
  },
  {
   "cell_type": "code",
   "execution_count": 21,
   "id": "27abb9c6",
   "metadata": {},
   "outputs": [
    {
     "data": {
      "text/plain": [
       "pretty_hist (generic function with 1 method)"
      ]
     },
     "execution_count": 21,
     "metadata": {},
     "output_type": "execute_result"
    }
   ],
   "source": [
    "function pretty_hist(bench; filter_thresh = 100.0)\n",
    "    # Convert nanoseconds to microseconds\n",
    "    times_us = bench.times ./ 1_000\n",
    "\n",
    "    # Trim values above a reasonable threshold\n",
    "    trimmed = filter(t -> t < filter_thresh, times_us)\n",
    "\n",
    "    p = histogram(trimmed;\n",
    "        bins=100,\n",
    "        xlabel=\"Execution Time (μs)\",\n",
    "        ylabel=\"Frequency\",\n",
    "        legend=false,\n",
    "        linecolor=:black,\n",
    "        fillcolor=:cornflowerblue,\n",
    "        alpha=0.8,\n",
    "        framestyle=:box,\n",
    "    )\n",
    "\n",
    "\n",
    "    return p\n",
    "end\n",
    "\n"
   ]
  },
  {
   "cell_type": "code",
   "execution_count": 22,
   "id": "7dcc8c2b",
   "metadata": {},
   "outputs": [
    {
     "data": {
      "text/plain": [
       "\"/Users/andreibleahu/Documents/MSc Data Science - St Andrews/Artifacts_CS5999_AIB/Tutorials/Dense_FW_time.png\""
      ]
     },
     "execution_count": 22,
     "metadata": {},
     "output_type": "execute_result"
    }
   ],
   "source": [
    "p1  = pretty_hist(bench_dense)\n",
    "savefig(p1, \"Dense_FW_time\")\n"
   ]
  },
  {
   "cell_type": "code",
   "execution_count": 23,
   "id": "2bea4431",
   "metadata": {},
   "outputs": [
    {
     "data": {
      "text/plain": [
       "BenchmarkTools.Trial: 10000 samples with 1 evaluation per sample.\n",
       " Range \u001b[90m(\u001b[39m\u001b[36m\u001b[1mmin\u001b[22m\u001b[39m … \u001b[35mmax\u001b[39m\u001b[90m):  \u001b[39m\u001b[36m\u001b[1m300.459 μs\u001b[22m\u001b[39m … \u001b[35m 3.397 ms\u001b[39m  \u001b[90m┊\u001b[39m GC \u001b[90m(\u001b[39mmin … max\u001b[90m): \u001b[39m0.00% … 90.00%\n",
       " Time  \u001b[90m(\u001b[39m\u001b[34m\u001b[1mmedian\u001b[22m\u001b[39m\u001b[90m):     \u001b[39m\u001b[34m\u001b[1m312.292 μs              \u001b[22m\u001b[39m\u001b[90m┊\u001b[39m GC \u001b[90m(\u001b[39mmedian\u001b[90m):    \u001b[39m0.00%\n",
       " Time  \u001b[90m(\u001b[39m\u001b[32m\u001b[1mmean\u001b[22m\u001b[39m ± \u001b[32mσ\u001b[39m\u001b[90m):   \u001b[39m\u001b[32m\u001b[1m325.329 μs\u001b[22m\u001b[39m ± \u001b[32m97.932 μs\u001b[39m  \u001b[90m┊\u001b[39m GC \u001b[90m(\u001b[39mmean ± σ\u001b[90m):  \u001b[39m3.55% ±  8.64%\n",
       "\n",
       "  \u001b[39m▇\u001b[39m█\u001b[34m█\u001b[39m\u001b[39m▅\u001b[32m▂\u001b[39m\u001b[39m \u001b[39m \u001b[39m \u001b[39m \u001b[39m \u001b[39m \u001b[39m \u001b[39m \u001b[39m \u001b[39m \u001b[39m \u001b[39m \u001b[39m \u001b[39m \u001b[39m \u001b[39m \u001b[39m \u001b[39m \u001b[39m \u001b[39m \u001b[39m \u001b[39m \u001b[39m \u001b[39m \u001b[39m \u001b[39m \u001b[39m \u001b[39m \u001b[39m \u001b[39m \u001b[39m \u001b[39m \u001b[39m \u001b[39m \u001b[39m \u001b[39m \u001b[39m \u001b[39m \u001b[39m \u001b[39m \u001b[39m \u001b[39m \u001b[39m \u001b[39m \u001b[39m \u001b[39m \u001b[39m \u001b[39m \u001b[39m \u001b[39m \u001b[39m \u001b[39m \u001b[39m \u001b[39m \u001b[39m \u001b[39m \u001b[39m▂\n",
       "  \u001b[39m█\u001b[39m█\u001b[34m█\u001b[39m\u001b[39m█\u001b[32m█\u001b[39m\u001b[39m█\u001b[39m▇\u001b[39m▇\u001b[39m▆\u001b[39m▆\u001b[39m▆\u001b[39m▇\u001b[39m▇\u001b[39m▇\u001b[39m▇\u001b[39m▇\u001b[39m▇\u001b[39m▆\u001b[39m▇\u001b[39m▆\u001b[39m▆\u001b[39m▆\u001b[39m▅\u001b[39m▅\u001b[39m▅\u001b[39m▅\u001b[39m▄\u001b[39m▄\u001b[39m▃\u001b[39m▃\u001b[39m▃\u001b[39m▃\u001b[39m▄\u001b[39m▃\u001b[39m▃\u001b[39m▃\u001b[39m▃\u001b[39m▃\u001b[39m▁\u001b[39m▁\u001b[39m▁\u001b[39m▁\u001b[39m▁\u001b[39m▁\u001b[39m▁\u001b[39m▃\u001b[39m▄\u001b[39m▆\u001b[39m▆\u001b[39m▇\u001b[39m▇\u001b[39m▆\u001b[39m▇\u001b[39m▇\u001b[39m▆\u001b[39m▅\u001b[39m▅\u001b[39m▅\u001b[39m▅\u001b[39m▄\u001b[39m \u001b[39m█\n",
       "  300 μs\u001b[90m        \u001b[39m\u001b[90mHistogram: \u001b[39m\u001b[90m\u001b[1mlog(\u001b[22m\u001b[39m\u001b[90mfrequency\u001b[39m\u001b[90m\u001b[1m)\u001b[22m\u001b[39m\u001b[90m by time\u001b[39m       664 μs \u001b[0m\u001b[1m<\u001b[22m\n",
       "\n",
       " Memory estimate\u001b[90m: \u001b[39m\u001b[33m259.81 KiB\u001b[39m, allocs estimate\u001b[90m: \u001b[39m\u001b[33m12\u001b[39m."
      ]
     },
     "execution_count": 23,
     "metadata": {},
     "output_type": "execute_result"
    }
   ],
   "source": [
    "bench_molchanov = @benchmark $var_layer_1($x)"
   ]
  },
  {
   "cell_type": "code",
   "execution_count": 24,
   "id": "ff0de52c",
   "metadata": {},
   "outputs": [
    {
     "data": {
      "text/plain": [
       "\"/Users/andreibleahu/Documents/MSc Data Science - St Andrews/Artifacts_CS5999_AIB/Tutorials/Molchanov_FW_time.png\""
      ]
     },
     "execution_count": 24,
     "metadata": {},
     "output_type": "execute_result"
    }
   ],
   "source": [
    "p2 = pretty_hist(bench_molchanov; filter_thresh= 400)\n",
    "savefig(p2, \"Molchanov_FW_time\")"
   ]
  },
  {
   "cell_type": "code",
   "execution_count": 25,
   "id": "fbaf2a37",
   "metadata": {},
   "outputs": [
    {
     "data": {
      "text/plain": [
       "BenchmarkTools.Trial: 10000 samples with 1 evaluation per sample.\n",
       " Range \u001b[90m(\u001b[39m\u001b[36m\u001b[1mmin\u001b[22m\u001b[39m … \u001b[35mmax\u001b[39m\u001b[90m):  \u001b[39m\u001b[36m\u001b[1m341.250 μs\u001b[22m\u001b[39m … \u001b[35m  6.890 ms\u001b[39m  \u001b[90m┊\u001b[39m GC \u001b[90m(\u001b[39mmin … max\u001b[90m): \u001b[39m0.00% … 94.21%\n",
       " Time  \u001b[90m(\u001b[39m\u001b[34m\u001b[1mmedian\u001b[22m\u001b[39m\u001b[90m):     \u001b[39m\u001b[34m\u001b[1m353.334 μs               \u001b[22m\u001b[39m\u001b[90m┊\u001b[39m GC \u001b[90m(\u001b[39mmedian\u001b[90m):    \u001b[39m0.00%\n",
       " Time  \u001b[90m(\u001b[39m\u001b[32m\u001b[1mmean\u001b[22m\u001b[39m ± \u001b[32mσ\u001b[39m\u001b[90m):   \u001b[39m\u001b[32m\u001b[1m366.525 μs\u001b[22m\u001b[39m ± \u001b[32m110.343 μs\u001b[39m  \u001b[90m┊\u001b[39m GC \u001b[90m(\u001b[39mmean ± σ\u001b[90m):  \u001b[39m3.17% ±  8.17%\n",
       "\n",
       "  \u001b[39m▇\u001b[39m▇\u001b[34m█\u001b[39m\u001b[39m▆\u001b[32m▃\u001b[39m\u001b[39m▁\u001b[39m \u001b[39m \u001b[39m \u001b[39m \u001b[39m \u001b[39m \u001b[39m \u001b[39m \u001b[39m \u001b[39m \u001b[39m \u001b[39m \u001b[39m \u001b[39m \u001b[39m \u001b[39m \u001b[39m \u001b[39m \u001b[39m \u001b[39m \u001b[39m \u001b[39m \u001b[39m \u001b[39m \u001b[39m \u001b[39m \u001b[39m \u001b[39m \u001b[39m \u001b[39m \u001b[39m \u001b[39m \u001b[39m \u001b[39m \u001b[39m \u001b[39m \u001b[39m \u001b[39m \u001b[39m \u001b[39m \u001b[39m \u001b[39m \u001b[39m \u001b[39m \u001b[39m \u001b[39m \u001b[39m \u001b[39m \u001b[39m \u001b[39m \u001b[39m \u001b[39m \u001b[39m \u001b[39m \u001b[39m \u001b[39m \u001b[39m▂\n",
       "  \u001b[39m█\u001b[39m█\u001b[34m█\u001b[39m\u001b[39m█\u001b[32m█\u001b[39m\u001b[39m█\u001b[39m█\u001b[39m▇\u001b[39m▇\u001b[39m▇\u001b[39m▇\u001b[39m▇\u001b[39m▆\u001b[39m▇\u001b[39m▇\u001b[39m▇\u001b[39m▇\u001b[39m▆\u001b[39m▇\u001b[39m▆\u001b[39m▆\u001b[39m▆\u001b[39m▆\u001b[39m▅\u001b[39m▆\u001b[39m▃\u001b[39m▅\u001b[39m▄\u001b[39m▄\u001b[39m▄\u001b[39m▃\u001b[39m▁\u001b[39m▁\u001b[39m▃\u001b[39m▁\u001b[39m▃\u001b[39m▁\u001b[39m▃\u001b[39m▁\u001b[39m▁\u001b[39m▁\u001b[39m▃\u001b[39m▁\u001b[39m▁\u001b[39m▁\u001b[39m▁\u001b[39m▁\u001b[39m▃\u001b[39m▄\u001b[39m▃\u001b[39m▅\u001b[39m▇\u001b[39m▇\u001b[39m▇\u001b[39m▇\u001b[39m▇\u001b[39m▇\u001b[39m▇\u001b[39m▆\u001b[39m▅\u001b[39m▄\u001b[39m \u001b[39m█\n",
       "  341 μs\u001b[90m        \u001b[39m\u001b[90mHistogram: \u001b[39m\u001b[90m\u001b[1mlog(\u001b[22m\u001b[39m\u001b[90mfrequency\u001b[39m\u001b[90m\u001b[1m)\u001b[22m\u001b[39m\u001b[90m by time\u001b[39m        690 μs \u001b[0m\u001b[1m<\u001b[22m\n",
       "\n",
       " Memory estimate\u001b[90m: \u001b[39m\u001b[33m259.81 KiB\u001b[39m, allocs estimate\u001b[90m: \u001b[39m\u001b[33m12\u001b[39m."
      ]
     },
     "execution_count": 25,
     "metadata": {},
     "output_type": "execute_result"
    }
   ],
   "source": [
    "bench_kingma = @benchmark $var_layer_2($x)"
   ]
  },
  {
   "cell_type": "code",
   "execution_count": 26,
   "id": "ef676a23",
   "metadata": {},
   "outputs": [
    {
     "data": {
      "text/plain": [
       "\"/Users/andreibleahu/Documents/MSc Data Science - St Andrews/Artifacts_CS5999_AIB/Tutorials/Kingma_FW_time.png\""
      ]
     },
     "execution_count": 26,
     "metadata": {},
     "output_type": "execute_result"
    }
   ],
   "source": [
    "p3 = pretty_hist(bench_kingma; filter_thresh= 500)\n",
    "savefig(p3, \"Kingma_FW_time\")"
   ]
  },
  {
   "cell_type": "code",
   "execution_count": 27,
   "id": "adb0f4cd",
   "metadata": {},
   "outputs": [
    {
     "data": {
      "text/plain": [
       "BenchmarkTools.Trial: 10000 samples with 1 evaluation per sample.\n",
       " Range \u001b[90m(\u001b[39m\u001b[36m\u001b[1mmin\u001b[22m\u001b[39m … \u001b[35mmax\u001b[39m\u001b[90m):  \u001b[39m\u001b[36m\u001b[1m303.916 μs\u001b[22m\u001b[39m … \u001b[35m 3.406 ms\u001b[39m  \u001b[90m┊\u001b[39m GC \u001b[90m(\u001b[39mmin … max\u001b[90m): \u001b[39m0.00% … 90.13%\n",
       " Time  \u001b[90m(\u001b[39m\u001b[34m\u001b[1mmedian\u001b[22m\u001b[39m\u001b[90m):     \u001b[39m\u001b[34m\u001b[1m315.792 μs              \u001b[22m\u001b[39m\u001b[90m┊\u001b[39m GC \u001b[90m(\u001b[39mmedian\u001b[90m):    \u001b[39m0.00%\n",
       " Time  \u001b[90m(\u001b[39m\u001b[32m\u001b[1mmean\u001b[22m\u001b[39m ± \u001b[32mσ\u001b[39m\u001b[90m):   \u001b[39m\u001b[32m\u001b[1m328.290 μs\u001b[22m\u001b[39m ± \u001b[32m95.738 μs\u001b[39m  \u001b[90m┊\u001b[39m GC \u001b[90m(\u001b[39mmean ± σ\u001b[90m):  \u001b[39m3.41% ±  8.47%\n",
       "\n",
       "  \u001b[39m▇\u001b[39m▇\u001b[34m█\u001b[39m\u001b[39m▅\u001b[32m▂\u001b[39m\u001b[39m \u001b[39m \u001b[39m \u001b[39m \u001b[39m \u001b[39m \u001b[39m \u001b[39m \u001b[39m \u001b[39m \u001b[39m \u001b[39m \u001b[39m \u001b[39m \u001b[39m \u001b[39m \u001b[39m \u001b[39m \u001b[39m \u001b[39m \u001b[39m \u001b[39m \u001b[39m \u001b[39m \u001b[39m \u001b[39m \u001b[39m \u001b[39m \u001b[39m \u001b[39m \u001b[39m \u001b[39m \u001b[39m \u001b[39m \u001b[39m \u001b[39m \u001b[39m \u001b[39m \u001b[39m \u001b[39m \u001b[39m \u001b[39m \u001b[39m \u001b[39m \u001b[39m \u001b[39m \u001b[39m \u001b[39m \u001b[39m \u001b[39m \u001b[39m \u001b[39m \u001b[39m \u001b[39m \u001b[39m \u001b[39m \u001b[39m▂\n",
       "  \u001b[39m█\u001b[39m█\u001b[34m█\u001b[39m\u001b[39m█\u001b[32m█\u001b[39m\u001b[39m█\u001b[39m▇\u001b[39m▆\u001b[39m▆\u001b[39m▆\u001b[39m▆\u001b[39m▅\u001b[39m▆\u001b[39m▇\u001b[39m▆\u001b[39m▇\u001b[39m▇\u001b[39m▆\u001b[39m▆\u001b[39m▆\u001b[39m▆\u001b[39m▆\u001b[39m▅\u001b[39m▅\u001b[39m▆\u001b[39m▅\u001b[39m▄\u001b[39m▄\u001b[39m▄\u001b[39m▄\u001b[39m▄\u001b[39m▄\u001b[39m▁\u001b[39m▁\u001b[39m▁\u001b[39m▁\u001b[39m▁\u001b[39m▃\u001b[39m▄\u001b[39m▁\u001b[39m▁\u001b[39m▃\u001b[39m▁\u001b[39m▁\u001b[39m▁\u001b[39m▁\u001b[39m▁\u001b[39m▄\u001b[39m▄\u001b[39m▅\u001b[39m▆\u001b[39m▆\u001b[39m▇\u001b[39m▇\u001b[39m▇\u001b[39m▇\u001b[39m▆\u001b[39m▆\u001b[39m▆\u001b[39m▆\u001b[39m \u001b[39m█\n",
       "  304 μs\u001b[90m        \u001b[39m\u001b[90mHistogram: \u001b[39m\u001b[90m\u001b[1mlog(\u001b[22m\u001b[39m\u001b[90mfrequency\u001b[39m\u001b[90m\u001b[1m)\u001b[22m\u001b[39m\u001b[90m by time\u001b[39m       656 μs \u001b[0m\u001b[1m<\u001b[22m\n",
       "\n",
       " Memory estimate\u001b[90m: \u001b[39m\u001b[33m259.81 KiB\u001b[39m, allocs estimate\u001b[90m: \u001b[39m\u001b[33m12\u001b[39m."
      ]
     },
     "execution_count": 27,
     "metadata": {},
     "output_type": "execute_result"
    }
   ],
   "source": [
    "bench_graves = @benchmark $var_layer_3($x)"
   ]
  },
  {
   "cell_type": "code",
   "execution_count": 28,
   "id": "1894f64b",
   "metadata": {},
   "outputs": [
    {
     "data": {
      "text/plain": [
       "\"/Users/andreibleahu/Documents/MSc Data Science - St Andrews/Artifacts_CS5999_AIB/Tutorials/Graves_FW_time.png\""
      ]
     },
     "execution_count": 28,
     "metadata": {},
     "output_type": "execute_result"
    }
   ],
   "source": [
    "p4 = pretty_hist(bench_graves; filter_thresh= 400)\n",
    "savefig(p4, \"Graves_FW_time\")"
   ]
  },
  {
   "cell_type": "markdown",
   "id": "c925497d",
   "metadata": {},
   "source": [
    "# Training "
   ]
  },
  {
   "cell_type": "code",
   "execution_count": 29,
   "id": "e7278770",
   "metadata": {},
   "outputs": [
    {
     "data": {
      "text/plain": [
       "train_dense_epoch (generic function with 1 method)"
      ]
     },
     "execution_count": 29,
     "metadata": {},
     "output_type": "execute_result"
    }
   ],
   "source": [
    "# 3. Tiny training loop timing\n",
    "function train_dense_epoch(model, data)\n",
    "    opt = Flux.setup(Adam(), model)\n",
    "    for (x, y) in data\n",
    "        loss, grads = Flux.withgradient(model) do m\n",
    "            Flux.logitcrossentropy(model(x), y)\n",
    "        end\n",
    "        Flux.update!(opt, model, grads[1])\n",
    "    end\n",
    "end"
   ]
  },
  {
   "cell_type": "code",
   "execution_count": 30,
   "id": "acda834c",
   "metadata": {},
   "outputs": [
    {
     "data": {
      "text/plain": [
       "train_variational_epoch (generic function with 1 method)"
      ]
     },
     "execution_count": 30,
     "metadata": {},
     "output_type": "execute_result"
    }
   ],
   "source": [
    "function train_variational_epoch(model, data; N=320)\n",
    "    opt = Flux.setup(Adam(), model)\n",
    "    for (x, y) in data\n",
    "        loss, grads = Flux.withgradient(model) do m\n",
    "            energy_loss(m, x, y, N; task_type=:classification)\n",
    "        end\n",
    "        Flux.update!(opt, model, grads[1])\n",
    "    end\n",
    "end"
   ]
  },
  {
   "cell_type": "code",
   "execution_count": 31,
   "id": "4f6a71cb",
   "metadata": {},
   "outputs": [
    {
     "data": {
      "text/plain": [
       "10-element Vector{Tuple{Matrix{Float32}, OneHotArrays.OneHotMatrix{UInt32, Vector{UInt32}}}}:\n",
       " ([0.39160913 0.18003982 … 0.35694957 0.7631394; 0.8190077 0.61038536 … 0.5345167 0.801996; … ; 0.9872733 0.13055027 … 0.6169957 0.20513117; 0.31079632 0.16451049 … 0.9997054 0.136599], [0 0 … 0 0; 0 0 … 1 0; … ; 0 0 … 0 0; 0 1 … 0 0])\n",
       " ([0.6636929 0.49097973 … 0.663972 0.79873574; 0.19095194 0.06527573 … 0.74971825 0.45436847; … ; 0.8961866 0.19018757 … 0.5380682 0.38584286; 0.6985424 0.44699335 … 0.26459897 0.15281671], [1 0 … 0 0; 0 0 … 0 0; … ; 0 0 … 0 0; 0 0 … 0 0])\n",
       " ([0.3495115 0.18851721 … 0.9999215 0.7795014; 0.6919953 0.8691436 … 0.4219218 0.73622715; … ; 0.66776294 0.8726363 … 0.35489386 0.37834877; 0.4895143 0.50491124 … 0.848169 0.8801688], [1 0 … 0 0; 0 0 … 0 0; … ; 0 0 … 0 0; 0 0 … 0 0])\n",
       " ([0.93426543 0.1787582 … 0.5586577 0.13671368; 0.28404105 0.5410484 … 0.5570679 0.46198702; … ; 0.202057 0.4057253 … 0.21942729 0.109384894; 0.51172554 0.95929885 … 0.55424845 0.37142193], [0 0 … 0 1; 0 0 … 0 0; … ; 0 0 … 0 0; 0 1 … 0 0])\n",
       " ([0.056054235 0.6477242 … 0.9110058 0.70807236; 0.16495442 0.95905775 … 0.15674472 0.8883375; … ; 0.8297324 0.9724107 … 0.42580885 0.76444715; 0.82604206 0.37427223 … 0.25061655 0.98730135], [0 1 … 0 0; 0 0 … 0 1; … ; 0 0 … 0 0; 1 0 … 1 0])\n",
       " ([0.05500543 0.19915068 … 0.35730433 0.6709885; 0.9960313 0.34879875 … 0.42406607 0.8485024; … ; 0.51017725 0.28922707 … 0.4528339 0.4256878; 0.12348902 0.48577112 … 0.5805289 0.53286403], [0 0 … 0 1; 0 0 … 0 0; … ; 0 0 … 0 0; 0 0 … 0 0])\n",
       " ([0.18425292 0.36340976 … 0.9071803 0.26055723; 0.48267537 0.940365 … 0.70716965 0.6957916; … ; 0.23455465 0.26962107 … 0.481619 0.1951009; 0.8107375 0.43975675 … 0.94600433 0.1596865], [0 0 … 0 0; 0 0 … 0 0; … ; 0 1 … 0 0; 0 0 … 0 0])\n",
       " ([0.43487948 0.39099717 … 0.49382257 0.9150609; 0.14336175 0.2918957 … 0.6985362 0.94894916; … ; 0.8598444 0.18930763 … 0.5398698 0.81876045; 0.7279406 0.6239509 … 0.7809631 0.86452127], [0 0 … 1 0; 0 0 … 0 0; … ; 1 0 … 0 0; 0 0 … 0 0])\n",
       " ([0.60747755 0.07266581 … 0.84727466 0.53522235; 0.91588473 0.27952462 … 0.88512975 0.41770202; … ; 0.6151625 0.65762424 … 0.098440826 0.6595536; 0.39898443 0.2451024 … 0.7246745 0.18670762], [0 0 … 0 0; 1 0 … 0 0; … ; 0 0 … 0 0; 0 1 … 0 0])\n",
       " ([0.4093806 0.33563536 … 0.7570222 0.1713708; 0.56336766 0.2701056 … 0.81663036 0.13519967; … ; 0.07684016 0.6029702 … 0.19334543 0.38925815; 0.4998936 0.85568404 … 0.8534694 0.10360026], [0 0 … 0 0; 0 0 … 0 1; … ; 0 0 … 0 0; 0 0 … 0 0])"
      ]
     },
     "execution_count": 31,
     "metadata": {},
     "output_type": "execute_result"
    }
   ],
   "source": [
    "data_loader = [(rand(Float32, 300, 32), Flux.onehotbatch(rand(1:10, 32), 1:10)) for _ in 1:10]\n"
   ]
  },
  {
   "cell_type": "code",
   "execution_count": 32,
   "id": "f316ef52",
   "metadata": {},
   "outputs": [
    {
     "data": {
      "text/plain": [
       "VarChain{Vector{Main.VariationalMLP.AbstractVariationalLayer}}(Main.VariationalMLP.AbstractVariationalLayer[VariationalDropoutKingma{typeof(relu)}(Float32[0.79698175 1.7667935 … 0.8886948 0.836783; 1.2104137 0.91788214 … -1.2020686 1.501433; … ; -0.42749378 -0.9193341 … -0.9006701 -0.025668351; 0.6532287 0.8128992 … 0.6692754 0.8686027], Float32[0.2615443 1.0059106 … -0.81860894 0.6270579; 0.5952025 -1.1872762 … 1.5421598 -0.40772814; … ; 1.661227 -0.11368676 … -0.28369877 -0.32568318; 0.40808854 1.1286542 … 0.04657433 -1.3461018], Float32[0.0, 0.0, 0.0, 0.0, 0.0, 0.0, 0.0, 0.0, 0.0, 0.0  …  0.0, 0.0, 0.0, 0.0, 0.0, 0.0, 0.0, 0.0, 0.0, 0.0], NNlib.relu), VariationalDropoutKingma{typeof(identity)}(Float32[-1.4180003 0.08133791 … -0.1769691 0.039955594; -0.18554993 0.5168965 … -0.41056782 -0.036238007; … ; 0.86575174 1.6516117 … -0.27139163 -0.9617676; -0.06687585 -2.1209407 … 0.27028772 0.1208957], Float32[1.6278579 0.40476662 … 0.2731237 1.5446397; -1.4909778 1.0354555 … -0.16032845 1.1936835; … ; -0.63166344 -0.81266594 … -0.42280203 0.63976187; 2.9110112 -0.6926683 … -0.98371124 0.797687], Float32[0.0, 0.0, 0.0, 0.0, 0.0, 0.0, 0.0, 0.0, 0.0, 0.0], identity)])"
      ]
     },
     "execution_count": 32,
     "metadata": {},
     "output_type": "execute_result"
    }
   ],
   "source": [
    "dense_model = Chain(Dense(300, 100, relu), Dense(100, 10))\n",
    "variational_model_1 = make_model([300, 100, 10]; variant=:molchanov, activations=[relu], final_activation=identity)\n",
    "variational_model_2 = make_model([300, 100, 10]; variant=:graves, activations=[relu], final_activation=identity)\n",
    "variational_model_3 = make_model([300, 100, 10]; variant=:kingma, activations=[relu], final_activation=identity)"
   ]
  },
  {
   "cell_type": "code",
   "execution_count": 33,
   "id": "6c6f6382",
   "metadata": {},
   "outputs": [
    {
     "data": {
      "text/plain": [
       "BenchmarkTools.Trial: 2779 samples with 1 evaluation per sample.\n",
       " Range \u001b[90m(\u001b[39m\u001b[36m\u001b[1mmin\u001b[22m\u001b[39m … \u001b[35mmax\u001b[39m\u001b[90m):  \u001b[39m\u001b[36m\u001b[1m1.482 ms\u001b[22m\u001b[39m … \u001b[35m  8.445 ms\u001b[39m  \u001b[90m┊\u001b[39m GC \u001b[90m(\u001b[39mmin … max\u001b[90m): \u001b[39m0.00% … 78.91%\n",
       " Time  \u001b[90m(\u001b[39m\u001b[34m\u001b[1mmedian\u001b[22m\u001b[39m\u001b[90m):     \u001b[39m\u001b[34m\u001b[1m1.642 ms               \u001b[22m\u001b[39m\u001b[90m┊\u001b[39m GC \u001b[90m(\u001b[39mmedian\u001b[90m):    \u001b[39m0.00%\n",
       " Time  \u001b[90m(\u001b[39m\u001b[32m\u001b[1mmean\u001b[22m\u001b[39m ± \u001b[32mσ\u001b[39m\u001b[90m):   \u001b[39m\u001b[32m\u001b[1m1.798 ms\u001b[22m\u001b[39m ± \u001b[32m447.298 μs\u001b[39m  \u001b[90m┊\u001b[39m GC \u001b[90m(\u001b[39mmean ± σ\u001b[90m):  \u001b[39m7.15% ± 11.81%\n",
       "\n",
       "  \u001b[39m▅\u001b[39m▆\u001b[39m▇\u001b[39m█\u001b[34m█\u001b[39m\u001b[39m▇\u001b[39m▄\u001b[39m▂\u001b[32m▁\u001b[39m\u001b[39m \u001b[39m \u001b[39m \u001b[39m \u001b[39m▂\u001b[39m▃\u001b[39m▃\u001b[39m▂\u001b[39m▂\u001b[39m▁\u001b[39m▁\u001b[39m▁\u001b[39m▁\u001b[39m▁\u001b[39m▁\u001b[39m▁\u001b[39m▁\u001b[39m▁\u001b[39m▁\u001b[39m▁\u001b[39m \u001b[39m \u001b[39m \u001b[39m \u001b[39m \u001b[39m \u001b[39m \u001b[39m \u001b[39m \u001b[39m \u001b[39m \u001b[39m \u001b[39m \u001b[39m \u001b[39m \u001b[39m \u001b[39m \u001b[39m \u001b[39m \u001b[39m \u001b[39m \u001b[39m \u001b[39m \u001b[39m \u001b[39m \u001b[39m \u001b[39m \u001b[39m \u001b[39m \u001b[39m \u001b[39m \u001b[39m▁\n",
       "  \u001b[39m█\u001b[39m█\u001b[39m█\u001b[39m█\u001b[34m█\u001b[39m\u001b[39m█\u001b[39m█\u001b[39m█\u001b[32m█\u001b[39m\u001b[39m█\u001b[39m█\u001b[39m█\u001b[39m█\u001b[39m█\u001b[39m█\u001b[39m█\u001b[39m█\u001b[39m█\u001b[39m█\u001b[39m█\u001b[39m█\u001b[39m█\u001b[39m█\u001b[39m█\u001b[39m█\u001b[39m█\u001b[39m█\u001b[39m█\u001b[39m█\u001b[39m▇\u001b[39m▇\u001b[39m█\u001b[39m▆\u001b[39m▆\u001b[39m▆\u001b[39m▄\u001b[39m▄\u001b[39m▅\u001b[39m▆\u001b[39m▅\u001b[39m▅\u001b[39m▄\u001b[39m▅\u001b[39m▆\u001b[39m▆\u001b[39m▇\u001b[39m▅\u001b[39m▁\u001b[39m▄\u001b[39m▄\u001b[39m▄\u001b[39m▄\u001b[39m▄\u001b[39m▁\u001b[39m▄\u001b[39m▅\u001b[39m▁\u001b[39m▄\u001b[39m▄\u001b[39m \u001b[39m█\n",
       "  1.48 ms\u001b[90m      \u001b[39m\u001b[90mHistogram: \u001b[39m\u001b[90m\u001b[1mlog(\u001b[22m\u001b[39m\u001b[90mfrequency\u001b[39m\u001b[90m\u001b[1m)\u001b[22m\u001b[39m\u001b[90m by time\u001b[39m       3.7 ms \u001b[0m\u001b[1m<\u001b[22m\n",
       "\n",
       " Memory estimate\u001b[90m: \u001b[39m\u001b[33m2.64 MiB\u001b[39m, allocs estimate\u001b[90m: \u001b[39m\u001b[33m1584\u001b[39m."
      ]
     },
     "execution_count": 33,
     "metadata": {},
     "output_type": "execute_result"
    }
   ],
   "source": [
    "bench_dense = @benchmark train_dense_epoch($dense_model, $data_loader)"
   ]
  },
  {
   "cell_type": "code",
   "execution_count": 34,
   "id": "57dc8476",
   "metadata": {},
   "outputs": [
    {
     "data": {
      "text/plain": [
       "BenchmarkTools.Trial: 232 samples with 1 evaluation per sample.\n",
       " Range \u001b[90m(\u001b[39m\u001b[36m\u001b[1mmin\u001b[22m\u001b[39m … \u001b[35mmax\u001b[39m\u001b[90m):  \u001b[39m\u001b[36m\u001b[1m17.761 ms\u001b[22m\u001b[39m … \u001b[35m167.262 ms\u001b[39m  \u001b[90m┊\u001b[39m GC \u001b[90m(\u001b[39mmin … max\u001b[90m): \u001b[39m 7.10% … 88.90%\n",
       " Time  \u001b[90m(\u001b[39m\u001b[34m\u001b[1mmedian\u001b[22m\u001b[39m\u001b[90m):     \u001b[39m\u001b[34m\u001b[1m20.208 ms               \u001b[22m\u001b[39m\u001b[90m┊\u001b[39m GC \u001b[90m(\u001b[39mmedian\u001b[90m):    \u001b[39m 9.43%\n",
       " Time  \u001b[90m(\u001b[39m\u001b[32m\u001b[1mmean\u001b[22m\u001b[39m ± \u001b[32mσ\u001b[39m\u001b[90m):   \u001b[39m\u001b[32m\u001b[1m21.587 ms\u001b[22m\u001b[39m ± \u001b[32m 10.026 ms\u001b[39m  \u001b[90m┊\u001b[39m GC \u001b[90m(\u001b[39mmean ± σ\u001b[90m):  \u001b[39m12.62% ±  7.03%\n",
       "\n",
       "  \u001b[39m \u001b[39m \u001b[39m▂\u001b[39m \u001b[39m▂\u001b[39m▃\u001b[39m▆\u001b[39m▄\u001b[39m█\u001b[34m▃\u001b[39m\u001b[39m \u001b[39m \u001b[39m▃\u001b[39m▄\u001b[39m▁\u001b[32m \u001b[39m\u001b[39m \u001b[39m \u001b[39m \u001b[39m \u001b[39m \u001b[39m \u001b[39m \u001b[39m \u001b[39m \u001b[39m \u001b[39m \u001b[39m \u001b[39m \u001b[39m \u001b[39m \u001b[39m \u001b[39m \u001b[39m \u001b[39m \u001b[39m \u001b[39m \u001b[39m \u001b[39m \u001b[39m \u001b[39m \u001b[39m \u001b[39m \u001b[39m \u001b[39m \u001b[39m \u001b[39m \u001b[39m \u001b[39m \u001b[39m \u001b[39m \u001b[39m \u001b[39m \u001b[39m \u001b[39m \u001b[39m \u001b[39m \u001b[39m \u001b[39m \u001b[39m \u001b[39m \u001b[39m \n",
       "  \u001b[39m▅\u001b[39m▃\u001b[39m█\u001b[39m█\u001b[39m█\u001b[39m█\u001b[39m█\u001b[39m█\u001b[39m█\u001b[34m█\u001b[39m\u001b[39m▆\u001b[39m█\u001b[39m█\u001b[39m█\u001b[39m█\u001b[32m▅\u001b[39m\u001b[39m▆\u001b[39m▄\u001b[39m▅\u001b[39m▃\u001b[39m▃\u001b[39m▄\u001b[39m▃\u001b[39m▃\u001b[39m▁\u001b[39m▃\u001b[39m▁\u001b[39m▃\u001b[39m▁\u001b[39m▄\u001b[39m▁\u001b[39m▃\u001b[39m▁\u001b[39m▁\u001b[39m▃\u001b[39m▄\u001b[39m▁\u001b[39m▁\u001b[39m▁\u001b[39m▁\u001b[39m▃\u001b[39m▁\u001b[39m▁\u001b[39m▁\u001b[39m▁\u001b[39m▁\u001b[39m▁\u001b[39m▄\u001b[39m▁\u001b[39m▁\u001b[39m▁\u001b[39m▁\u001b[39m▁\u001b[39m▁\u001b[39m▁\u001b[39m▃\u001b[39m▁\u001b[39m▃\u001b[39m▁\u001b[39m▃\u001b[39m \u001b[39m▃\n",
       "  17.8 ms\u001b[90m         Histogram: frequency by time\u001b[39m         33.4 ms \u001b[0m\u001b[1m<\u001b[22m\n",
       "\n",
       " Memory estimate\u001b[90m: \u001b[39m\u001b[33m60.29 MiB\u001b[39m, allocs estimate\u001b[90m: \u001b[39m\u001b[33m19084\u001b[39m."
      ]
     },
     "execution_count": 34,
     "metadata": {},
     "output_type": "execute_result"
    }
   ],
   "source": [
    "bench_molchanov = @benchmark train_variational_epoch($variational_model_1, $data_loader)"
   ]
  },
  {
   "cell_type": "code",
   "execution_count": 35,
   "id": "1ddcd47e",
   "metadata": {},
   "outputs": [
    {
     "data": {
      "text/plain": [
       "BenchmarkTools.Trial: 338 samples with 1 evaluation per sample.\n",
       " Range \u001b[90m(\u001b[39m\u001b[36m\u001b[1mmin\u001b[22m\u001b[39m … \u001b[35mmax\u001b[39m\u001b[90m):  \u001b[39m\u001b[36m\u001b[1m11.973 ms\u001b[22m\u001b[39m … \u001b[35m140.433 ms\u001b[39m  \u001b[90m┊\u001b[39m GC \u001b[90m(\u001b[39mmin … max\u001b[90m): \u001b[39m 4.80% … 90.64%\n",
       " Time  \u001b[90m(\u001b[39m\u001b[34m\u001b[1mmedian\u001b[22m\u001b[39m\u001b[90m):     \u001b[39m\u001b[34m\u001b[1m14.029 ms               \u001b[22m\u001b[39m\u001b[90m┊\u001b[39m GC \u001b[90m(\u001b[39mmedian\u001b[90m):    \u001b[39m10.33%\n",
       " Time  \u001b[90m(\u001b[39m\u001b[32m\u001b[1mmean\u001b[22m\u001b[39m ± \u001b[32mσ\u001b[39m\u001b[90m):   \u001b[39m\u001b[32m\u001b[1m14.813 ms\u001b[22m\u001b[39m ± \u001b[32m  7.208 ms\u001b[39m  \u001b[90m┊\u001b[39m GC \u001b[90m(\u001b[39mmean ± σ\u001b[90m):  \u001b[39m12.88% ±  8.03%\n",
       "\n",
       "  \u001b[39m \u001b[39m \u001b[39m \u001b[39m▄\u001b[39m▅\u001b[39m█\u001b[34m█\u001b[39m\u001b[39m▄\u001b[39m▄\u001b[32m▂\u001b[39m\u001b[39m \u001b[39m \u001b[39m \u001b[39m \u001b[39m \u001b[39m \u001b[39m \u001b[39m \u001b[39m \u001b[39m \u001b[39m \u001b[39m \u001b[39m \u001b[39m \u001b[39m \u001b[39m \u001b[39m \u001b[39m \u001b[39m \u001b[39m \u001b[39m \u001b[39m \u001b[39m \u001b[39m \u001b[39m \u001b[39m \u001b[39m \u001b[39m \u001b[39m \u001b[39m \u001b[39m \u001b[39m \u001b[39m \u001b[39m \u001b[39m \u001b[39m \u001b[39m \u001b[39m \u001b[39m \u001b[39m \u001b[39m \u001b[39m \u001b[39m \u001b[39m \u001b[39m \u001b[39m \u001b[39m \u001b[39m \u001b[39m \u001b[39m \u001b[39m \u001b[39m \n",
       "  \u001b[39m▄\u001b[39m▆\u001b[39m█\u001b[39m█\u001b[39m█\u001b[39m█\u001b[34m█\u001b[39m\u001b[39m█\u001b[39m█\u001b[32m█\u001b[39m\u001b[39m█\u001b[39m▆\u001b[39m▅\u001b[39m▃\u001b[39m▃\u001b[39m▃\u001b[39m▃\u001b[39m▂\u001b[39m▂\u001b[39m▂\u001b[39m▁\u001b[39m▁\u001b[39m▁\u001b[39m▁\u001b[39m▁\u001b[39m▃\u001b[39m▁\u001b[39m▁\u001b[39m▁\u001b[39m▁\u001b[39m▁\u001b[39m▁\u001b[39m▂\u001b[39m▁\u001b[39m▁\u001b[39m▁\u001b[39m▁\u001b[39m▂\u001b[39m▁\u001b[39m▁\u001b[39m▁\u001b[39m▁\u001b[39m▁\u001b[39m▁\u001b[39m▁\u001b[39m▁\u001b[39m▂\u001b[39m▁\u001b[39m▁\u001b[39m▁\u001b[39m▁\u001b[39m▁\u001b[39m▁\u001b[39m▁\u001b[39m▁\u001b[39m▁\u001b[39m▁\u001b[39m▁\u001b[39m▁\u001b[39m▂\u001b[39m \u001b[39m▃\n",
       "  12 ms\u001b[90m           Histogram: frequency by time\u001b[39m           31 ms \u001b[0m\u001b[1m<\u001b[22m\n",
       "\n",
       " Memory estimate\u001b[90m: \u001b[39m\u001b[33m43.79 MiB\u001b[39m, allocs estimate\u001b[90m: \u001b[39m\u001b[33m18594\u001b[39m."
      ]
     },
     "execution_count": 35,
     "metadata": {},
     "output_type": "execute_result"
    }
   ],
   "source": [
    "bench_graves = @benchmark train_variational_epoch($variational_model_2, $data_loader)"
   ]
  },
  {
   "cell_type": "code",
   "execution_count": 36,
   "id": "ad19fdc0",
   "metadata": {},
   "outputs": [
    {
     "data": {
      "text/plain": [
       "BenchmarkTools.Trial: 311 samples with 1 evaluation per sample.\n",
       " Range \u001b[90m(\u001b[39m\u001b[36m\u001b[1mmin\u001b[22m\u001b[39m … \u001b[35mmax\u001b[39m\u001b[90m):  \u001b[39m\u001b[36m\u001b[1m13.440 ms\u001b[22m\u001b[39m … \u001b[35m144.176 ms\u001b[39m  \u001b[90m┊\u001b[39m GC \u001b[90m(\u001b[39mmin … max\u001b[90m): \u001b[39m 4.77% … 89.56%\n",
       " Time  \u001b[90m(\u001b[39m\u001b[34m\u001b[1mmedian\u001b[22m\u001b[39m\u001b[90m):     \u001b[39m\u001b[34m\u001b[1m15.238 ms               \u001b[22m\u001b[39m\u001b[90m┊\u001b[39m GC \u001b[90m(\u001b[39mmedian\u001b[90m):    \u001b[39m 9.89%\n",
       " Time  \u001b[90m(\u001b[39m\u001b[32m\u001b[1mmean\u001b[22m\u001b[39m ± \u001b[32mσ\u001b[39m\u001b[90m):   \u001b[39m\u001b[32m\u001b[1m16.084 ms\u001b[22m\u001b[39m ± \u001b[32m  7.569 ms\u001b[39m  \u001b[90m┊\u001b[39m GC \u001b[90m(\u001b[39mmean ± σ\u001b[90m):  \u001b[39m12.39% ±  7.91%\n",
       "\n",
       "  \u001b[39m \u001b[39m \u001b[39m \u001b[39m \u001b[39m▃\u001b[39m▂\u001b[39m▃\u001b[39m█\u001b[34m \u001b[39m\u001b[39m▄\u001b[39m \u001b[39m▃\u001b[32m \u001b[39m\u001b[39m \u001b[39m \u001b[39m \u001b[39m \u001b[39m \u001b[39m \u001b[39m \u001b[39m \u001b[39m \u001b[39m \u001b[39m \u001b[39m \u001b[39m \u001b[39m \u001b[39m \u001b[39m \u001b[39m \u001b[39m \u001b[39m \u001b[39m \u001b[39m \u001b[39m \u001b[39m \u001b[39m \u001b[39m \u001b[39m \u001b[39m \u001b[39m \u001b[39m \u001b[39m \u001b[39m \u001b[39m \u001b[39m \u001b[39m \u001b[39m \u001b[39m \u001b[39m \u001b[39m \u001b[39m \u001b[39m \u001b[39m \u001b[39m \u001b[39m \u001b[39m \u001b[39m \u001b[39m \u001b[39m \u001b[39m \u001b[39m \n",
       "  \u001b[39m▃\u001b[39m▆\u001b[39m▅\u001b[39m▅\u001b[39m█\u001b[39m█\u001b[39m█\u001b[39m█\u001b[34m█\u001b[39m\u001b[39m█\u001b[39m▇\u001b[39m█\u001b[32m█\u001b[39m\u001b[39m▅\u001b[39m▄\u001b[39m▅\u001b[39m▂\u001b[39m▃\u001b[39m▄\u001b[39m▃\u001b[39m▂\u001b[39m▂\u001b[39m▃\u001b[39m▁\u001b[39m▁\u001b[39m▂\u001b[39m▁\u001b[39m▁\u001b[39m▁\u001b[39m▁\u001b[39m▂\u001b[39m▁\u001b[39m▁\u001b[39m▁\u001b[39m▃\u001b[39m▁\u001b[39m▁\u001b[39m▁\u001b[39m▁\u001b[39m▁\u001b[39m▂\u001b[39m▁\u001b[39m▁\u001b[39m▂\u001b[39m▁\u001b[39m▁\u001b[39m▁\u001b[39m▁\u001b[39m▁\u001b[39m▁\u001b[39m▁\u001b[39m▁\u001b[39m▁\u001b[39m▂\u001b[39m▁\u001b[39m▁\u001b[39m▁\u001b[39m▂\u001b[39m▁\u001b[39m▂\u001b[39m \u001b[39m▃\n",
       "  13.4 ms\u001b[90m         Histogram: frequency by time\u001b[39m         26.5 ms \u001b[0m\u001b[1m<\u001b[22m\n",
       "\n",
       " Memory estimate\u001b[90m: \u001b[39m\u001b[33m46.06 MiB\u001b[39m, allocs estimate\u001b[90m: \u001b[39m\u001b[33m18294\u001b[39m."
      ]
     },
     "execution_count": 36,
     "metadata": {},
     "output_type": "execute_result"
    }
   ],
   "source": [
    "bench_kingma = @benchmark train_variational_epoch($variational_model_3, $data_loader)"
   ]
  },
  {
   "cell_type": "markdown",
   "id": "ebabacac",
   "metadata": {},
   "source": [
    "# Test over optimizers"
   ]
  },
  {
   "cell_type": "code",
   "execution_count": 37,
   "id": "24524f15",
   "metadata": {},
   "outputs": [
    {
     "data": {
      "text/plain": [
       "train_variational_epoch! (generic function with 1 method)"
      ]
     },
     "execution_count": 37,
     "metadata": {},
     "output_type": "execute_result"
    }
   ],
   "source": [
    "function train_variational_epoch!(model, data, opt_ctor; N=320) # accepts custom \n",
    "    opt = Flux.setup(opt_ctor(), model)\n",
    "    for (x, y) in data\n",
    "        loss, grads = Flux.withgradient(model) do m\n",
    "            energy_loss(m, x, y, N; task_type=:classification)\n",
    "        end\n",
    "        Flux.update!(opt, model, grads[1])\n",
    "    end\n",
    "end\n"
   ]
  },
  {
   "cell_type": "markdown",
   "id": "564e875f",
   "metadata": {},
   "source": [
    "I will define a wrapper function that benchmarks based on optimizer and returns a list of results."
   ]
  },
  {
   "cell_type": "code",
   "execution_count": 38,
   "id": "16b647f9",
   "metadata": {},
   "outputs": [
    {
     "data": {
      "text/plain": [
       "benchmark_optimizer (generic function with 1 method)"
      ]
     },
     "execution_count": 38,
     "metadata": {},
     "output_type": "execute_result"
    }
   ],
   "source": [
    "function benchmark_optimizer(opt_ctor, model, data; N=320)\n",
    "    result = @benchmark train_variational_epoch!($model, $data, $opt_ctor; N=$N) setup=(GC.gc())\n",
    "    return (\n",
    "        optimizer = string(opt_ctor),\n",
    "        time_ns = median(result).time,\n",
    "        memory = median(result).memory,\n",
    "        allocs = median(result).allocs,\n",
    "        gc_time_ns = median(result).gctime\n",
    "    )\n",
    "end\n"
   ]
  },
  {
   "cell_type": "markdown",
   "id": "0a294044",
   "metadata": {},
   "source": [
    "Let's test some optimizers for the same learning rate:"
   ]
  },
  {
   "cell_type": "code",
   "execution_count": 39,
   "id": "ebbf3b01",
   "metadata": {},
   "outputs": [
    {
     "data": {
      "text/plain": [
       "4-element Vector{Function}:\n",
       " #15 (generic function with 1 method)\n",
       " #16 (generic function with 1 method)\n",
       " #17 (generic function with 1 method)\n",
       " #18 (generic function with 1 method)"
      ]
     },
     "execution_count": 39,
     "metadata": {},
     "output_type": "execute_result"
    }
   ],
   "source": [
    "const LR = 0.01  # fixed learning rate\n",
    "optimizers = [\n",
    "    () -> Adam(LR),\n",
    "    () -> RMSProp(LR),\n",
    "    () -> Descent(LR),\n",
    "    () -> AdaGrad(LR)\n",
    "]\n"
   ]
  },
  {
   "cell_type": "markdown",
   "id": "4a1628d0",
   "metadata": {},
   "source": [
    "Let's name them "
   ]
  },
  {
   "cell_type": "code",
   "execution_count": 40,
   "id": "bbf1bad8",
   "metadata": {},
   "outputs": [
    {
     "data": {
      "text/plain": [
       "4-element Vector{DataType}:\n",
       " Adam\n",
       " RMSProp\n",
       " Descent\n",
       " AdaGrad"
      ]
     },
     "execution_count": 40,
     "metadata": {},
     "output_type": "execute_result"
    }
   ],
   "source": [
    "opt_names = [Adam, RMSProp, Descent, AdaGrad]"
   ]
  },
  {
   "cell_type": "code",
   "execution_count": 41,
   "id": "50872317",
   "metadata": {},
   "outputs": [
    {
     "data": {
      "text/plain": [
       "experiment_opts (generic function with 1 method)"
      ]
     },
     "execution_count": 41,
     "metadata": {},
     "output_type": "execute_result"
    }
   ],
   "source": [
    "function experiment_opts(model; optimizers = optimizers, opt_names = opt_names)\n",
    "\n",
    "    results = [\n",
    "        merge(benchmark_optimizer(opt_ctor, deepcopy(model), data_loader), (; optimizer = name))\n",
    "\n",
    "        for (opt_ctor, name) in zip(optimizers, opt_names)\n",
    "    ]\n",
    "    df = DataFrame(results)\n",
    "    df.time_ms = df.time_ns ./ 1e6\n",
    "    df.gc_ms = df.gc_time_ns ./ 1e6\n",
    "    select!(df, [:optimizer, :time_ms, :memory, :allocs, :gc_ms])\n",
    "\n",
    "    return df \n",
    "\n",
    "        \n",
    "end \n"
   ]
  },
  {
   "cell_type": "markdown",
   "id": "3ef80c17",
   "metadata": {},
   "source": [
    "### Molchanov "
   ]
  },
  {
   "cell_type": "code",
   "execution_count": 42,
   "id": "28ad7a0c",
   "metadata": {},
   "outputs": [],
   "source": [
    "using DataFrames "
   ]
  },
  {
   "cell_type": "code",
   "execution_count": 43,
   "id": "cba46edb",
   "metadata": {},
   "outputs": [
    {
     "data": {
      "text/html": [
       "<div><div style = \"float: left;\"><span>4×5 DataFrame</span></div><div style = \"clear: both;\"></div></div><div class = \"data-frame\" style = \"overflow-x: scroll;\"><table class = \"data-frame\" style = \"margin-bottom: 6px;\"><thead><tr class = \"header\"><th class = \"rowNumber\" style = \"font-weight: bold; text-align: right;\">Row</th><th style = \"text-align: left;\">optimizer</th><th style = \"text-align: left;\">time_ms</th><th style = \"text-align: left;\">memory</th><th style = \"text-align: left;\">allocs</th><th style = \"text-align: left;\">gc_ms</th></tr><tr class = \"subheader headerLastRow\"><th class = \"rowNumber\" style = \"font-weight: bold; text-align: right;\"></th><th title = \"DataType\" style = \"text-align: left;\">DataType</th><th title = \"Float64\" style = \"text-align: left;\">Float64</th><th title = \"Int64\" style = \"text-align: left;\">Int64</th><th title = \"Int64\" style = \"text-align: left;\">Int64</th><th title = \"Float64\" style = \"text-align: left;\">Float64</th></tr></thead><tbody><tr><td class = \"rowNumber\" style = \"font-weight: bold; text-align: right;\">1</td><td style = \"text-align: left;\">Adam</td><td style = \"text-align: right;\">18.9168</td><td style = \"text-align: right;\">63220720</td><td style = \"text-align: right;\">19083</td><td style = \"text-align: right;\">0.0</td></tr><tr><td class = \"rowNumber\" style = \"font-weight: bold; text-align: right;\">2</td><td style = \"text-align: left;\">RMSProp</td><td style = \"text-align: right;\">18.1409</td><td style = \"text-align: right;\">62974320</td><td style = \"text-align: right;\">19223</td><td style = \"text-align: right;\">0.0</td></tr><tr><td class = \"rowNumber\" style = \"font-weight: bold; text-align: right;\">3</td><td style = \"text-align: left;\">Descent</td><td style = \"text-align: right;\">16.4232</td><td style = \"text-align: right;\">62700464</td><td style = \"text-align: right;\">18751</td><td style = \"text-align: right;\">0.0</td></tr><tr><td class = \"rowNumber\" style = \"font-weight: bold; text-align: right;\">4</td><td style = \"text-align: left;\">AdaGrad</td><td style = \"text-align: right;\">18.2282</td><td style = \"text-align: right;\">62953968</td><td style = \"text-align: right;\">18767</td><td style = \"text-align: right;\">0.0</td></tr></tbody></table></div>"
      ],
      "text/latex": [
       "\\begin{tabular}{r|ccccc}\n",
       "\t& optimizer & time\\_ms & memory & allocs & gc\\_ms\\\\\n",
       "\t\\hline\n",
       "\t& DataType & Float64 & Int64 & Int64 & Float64\\\\\n",
       "\t\\hline\n",
       "\t1 & Adam & 18.9168 & 63220720 & 19083 & 0.0 \\\\\n",
       "\t2 & RMSProp & 18.1409 & 62974320 & 19223 & 0.0 \\\\\n",
       "\t3 & Descent & 16.4232 & 62700464 & 18751 & 0.0 \\\\\n",
       "\t4 & AdaGrad & 18.2282 & 62953968 & 18767 & 0.0 \\\\\n",
       "\\end{tabular}\n"
      ],
      "text/plain": [
       "\u001b[1m4×5 DataFrame\u001b[0m\n",
       "\u001b[1m Row \u001b[0m│\u001b[1m optimizer \u001b[0m\u001b[1m time_ms \u001b[0m\u001b[1m memory   \u001b[0m\u001b[1m allocs \u001b[0m\u001b[1m gc_ms   \u001b[0m\n",
       "     │\u001b[90m DataType  \u001b[0m\u001b[90m Float64 \u001b[0m\u001b[90m Int64    \u001b[0m\u001b[90m Int64  \u001b[0m\u001b[90m Float64 \u001b[0m\n",
       "─────┼───────────────────────────────────────────────\n",
       "   1 │ Adam       18.9168  63220720   19083      0.0\n",
       "   2 │ RMSProp    18.1409  62974320   19223      0.0\n",
       "   3 │ Descent    16.4232  62700464   18751      0.0\n",
       "   4 │ AdaGrad    18.2282  62953968   18767      0.0"
      ]
     },
     "execution_count": 43,
     "metadata": {},
     "output_type": "execute_result"
    }
   ],
   "source": [
    "df_1 = experiment_opts(variational_model_1)"
   ]
  },
  {
   "cell_type": "markdown",
   "id": "d14633ce",
   "metadata": {},
   "source": [
    "## Graves"
   ]
  },
  {
   "cell_type": "code",
   "execution_count": 44,
   "id": "8a8f069e",
   "metadata": {},
   "outputs": [
    {
     "data": {
      "text/html": [
       "<div><div style = \"float: left;\"><span>4×5 DataFrame</span></div><div style = \"clear: both;\"></div></div><div class = \"data-frame\" style = \"overflow-x: scroll;\"><table class = \"data-frame\" style = \"margin-bottom: 6px;\"><thead><tr class = \"header\"><th class = \"rowNumber\" style = \"font-weight: bold; text-align: right;\">Row</th><th style = \"text-align: left;\">optimizer</th><th style = \"text-align: left;\">time_ms</th><th style = \"text-align: left;\">memory</th><th style = \"text-align: left;\">allocs</th><th style = \"text-align: left;\">gc_ms</th></tr><tr class = \"subheader headerLastRow\"><th class = \"rowNumber\" style = \"font-weight: bold; text-align: right;\"></th><th title = \"DataType\" style = \"text-align: left;\">DataType</th><th title = \"Float64\" style = \"text-align: left;\">Float64</th><th title = \"Int64\" style = \"text-align: left;\">Int64</th><th title = \"Int64\" style = \"text-align: left;\">Int64</th><th title = \"Float64\" style = \"text-align: left;\">Float64</th></tr></thead><tbody><tr><td class = \"rowNumber\" style = \"font-weight: bold; text-align: right;\">1</td><td style = \"text-align: left;\">Adam</td><td style = \"text-align: right;\">14.2445</td><td style = \"text-align: right;\">45918800</td><td style = \"text-align: right;\">18593</td><td style = \"text-align: right;\">0.0</td></tr><tr><td class = \"rowNumber\" style = \"font-weight: bold; text-align: right;\">2</td><td style = \"text-align: left;\">RMSProp</td><td style = \"text-align: right;\">13.5628</td><td style = \"text-align: right;\">45672400</td><td style = \"text-align: right;\">18733</td><td style = \"text-align: right;\">0.0</td></tr><tr><td class = \"rowNumber\" style = \"font-weight: bold; text-align: right;\">3</td><td style = \"text-align: left;\">Descent</td><td style = \"text-align: right;\">12.8325</td><td style = \"text-align: right;\">45398544</td><td style = \"text-align: right;\">18261</td><td style = \"text-align: right;\">0.0</td></tr><tr><td class = \"rowNumber\" style = \"font-weight: bold; text-align: right;\">4</td><td style = \"text-align: left;\">AdaGrad</td><td style = \"text-align: right;\">13.6418</td><td style = \"text-align: right;\">45652048</td><td style = \"text-align: right;\">18277</td><td style = \"text-align: right;\">0.0</td></tr></tbody></table></div>"
      ],
      "text/latex": [
       "\\begin{tabular}{r|ccccc}\n",
       "\t& optimizer & time\\_ms & memory & allocs & gc\\_ms\\\\\n",
       "\t\\hline\n",
       "\t& DataType & Float64 & Int64 & Int64 & Float64\\\\\n",
       "\t\\hline\n",
       "\t1 & Adam & 14.2445 & 45918800 & 18593 & 0.0 \\\\\n",
       "\t2 & RMSProp & 13.5628 & 45672400 & 18733 & 0.0 \\\\\n",
       "\t3 & Descent & 12.8325 & 45398544 & 18261 & 0.0 \\\\\n",
       "\t4 & AdaGrad & 13.6418 & 45652048 & 18277 & 0.0 \\\\\n",
       "\\end{tabular}\n"
      ],
      "text/plain": [
       "\u001b[1m4×5 DataFrame\u001b[0m\n",
       "\u001b[1m Row \u001b[0m│\u001b[1m optimizer \u001b[0m\u001b[1m time_ms \u001b[0m\u001b[1m memory   \u001b[0m\u001b[1m allocs \u001b[0m\u001b[1m gc_ms   \u001b[0m\n",
       "     │\u001b[90m DataType  \u001b[0m\u001b[90m Float64 \u001b[0m\u001b[90m Int64    \u001b[0m\u001b[90m Int64  \u001b[0m\u001b[90m Float64 \u001b[0m\n",
       "─────┼───────────────────────────────────────────────\n",
       "   1 │ Adam       14.2445  45918800   18593      0.0\n",
       "   2 │ RMSProp    13.5628  45672400   18733      0.0\n",
       "   3 │ Descent    12.8325  45398544   18261      0.0\n",
       "   4 │ AdaGrad    13.6418  45652048   18277      0.0"
      ]
     },
     "execution_count": 44,
     "metadata": {},
     "output_type": "execute_result"
    }
   ],
   "source": [
    "df_2 = experiment_opts(variational_model_2)"
   ]
  },
  {
   "cell_type": "markdown",
   "id": "be6138c7",
   "metadata": {},
   "source": [
    "## Kingma"
   ]
  },
  {
   "cell_type": "code",
   "execution_count": 45,
   "id": "e3366dbe",
   "metadata": {},
   "outputs": [
    {
     "data": {
      "text/html": [
       "<div><div style = \"float: left;\"><span>4×5 DataFrame</span></div><div style = \"clear: both;\"></div></div><div class = \"data-frame\" style = \"overflow-x: scroll;\"><table class = \"data-frame\" style = \"margin-bottom: 6px;\"><thead><tr class = \"header\"><th class = \"rowNumber\" style = \"font-weight: bold; text-align: right;\">Row</th><th style = \"text-align: left;\">optimizer</th><th style = \"text-align: left;\">time_ms</th><th style = \"text-align: left;\">memory</th><th style = \"text-align: left;\">allocs</th><th style = \"text-align: left;\">gc_ms</th></tr><tr class = \"subheader headerLastRow\"><th class = \"rowNumber\" style = \"font-weight: bold; text-align: right;\"></th><th title = \"DataType\" style = \"text-align: left;\">DataType</th><th title = \"Float64\" style = \"text-align: left;\">Float64</th><th title = \"Int64\" style = \"text-align: left;\">Int64</th><th title = \"Int64\" style = \"text-align: left;\">Int64</th><th title = \"Float64\" style = \"text-align: left;\">Float64</th></tr></thead><tbody><tr><td class = \"rowNumber\" style = \"font-weight: bold; text-align: right;\">1</td><td style = \"text-align: left;\">Adam</td><td style = \"text-align: right;\">15.7484</td><td style = \"text-align: right;\">48300880</td><td style = \"text-align: right;\">18293</td><td style = \"text-align: right;\">0.0</td></tr><tr><td class = \"rowNumber\" style = \"font-weight: bold; text-align: right;\">2</td><td style = \"text-align: left;\">RMSProp</td><td style = \"text-align: right;\">14.9609</td><td style = \"text-align: right;\">48054480</td><td style = \"text-align: right;\">18433</td><td style = \"text-align: right;\">0.0</td></tr><tr><td class = \"rowNumber\" style = \"font-weight: bold; text-align: right;\">3</td><td style = \"text-align: left;\">Descent</td><td style = \"text-align: right;\">14.2896</td><td style = \"text-align: right;\">47780624</td><td style = \"text-align: right;\">17961</td><td style = \"text-align: right;\">0.0</td></tr><tr><td class = \"rowNumber\" style = \"font-weight: bold; text-align: right;\">4</td><td style = \"text-align: left;\">AdaGrad</td><td style = \"text-align: right;\">15.0419</td><td style = \"text-align: right;\">48034128</td><td style = \"text-align: right;\">17977</td><td style = \"text-align: right;\">0.0</td></tr></tbody></table></div>"
      ],
      "text/latex": [
       "\\begin{tabular}{r|ccccc}\n",
       "\t& optimizer & time\\_ms & memory & allocs & gc\\_ms\\\\\n",
       "\t\\hline\n",
       "\t& DataType & Float64 & Int64 & Int64 & Float64\\\\\n",
       "\t\\hline\n",
       "\t1 & Adam & 15.7484 & 48300880 & 18293 & 0.0 \\\\\n",
       "\t2 & RMSProp & 14.9609 & 48054480 & 18433 & 0.0 \\\\\n",
       "\t3 & Descent & 14.2896 & 47780624 & 17961 & 0.0 \\\\\n",
       "\t4 & AdaGrad & 15.0419 & 48034128 & 17977 & 0.0 \\\\\n",
       "\\end{tabular}\n"
      ],
      "text/plain": [
       "\u001b[1m4×5 DataFrame\u001b[0m\n",
       "\u001b[1m Row \u001b[0m│\u001b[1m optimizer \u001b[0m\u001b[1m time_ms \u001b[0m\u001b[1m memory   \u001b[0m\u001b[1m allocs \u001b[0m\u001b[1m gc_ms   \u001b[0m\n",
       "     │\u001b[90m DataType  \u001b[0m\u001b[90m Float64 \u001b[0m\u001b[90m Int64    \u001b[0m\u001b[90m Int64  \u001b[0m\u001b[90m Float64 \u001b[0m\n",
       "─────┼───────────────────────────────────────────────\n",
       "   1 │ Adam       15.7484  48300880   18293      0.0\n",
       "   2 │ RMSProp    14.9609  48054480   18433      0.0\n",
       "   3 │ Descent    14.2896  47780624   17961      0.0\n",
       "   4 │ AdaGrad    15.0419  48034128   17977      0.0"
      ]
     },
     "execution_count": 45,
     "metadata": {},
     "output_type": "execute_result"
    }
   ],
   "source": [
    "df_3 = experiment_opts(variational_model_3)"
   ]
  },
  {
   "cell_type": "code",
   "execution_count": null,
   "id": "b334e54f",
   "metadata": {},
   "outputs": [],
   "source": []
  }
 ],
 "metadata": {
  "kernelspec": {
   "display_name": "Julia 1.11.3",
   "language": "julia",
   "name": "julia-1.11"
  },
  "language_info": {
   "file_extension": ".jl",
   "mimetype": "application/julia",
   "name": "julia",
   "version": "1.11.3"
  }
 },
 "nbformat": 4,
 "nbformat_minor": 5
}
